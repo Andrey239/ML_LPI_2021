{
  "nbformat": 4,
  "nbformat_minor": 0,
  "metadata": {
    "colab": {
      "name": "MLatFIAN2021_seminar05_homework.ipynb",
      "provenance": [],
      "include_colab_link": true
    },
    "kernelspec": {
      "name": "python3",
      "display_name": "Python 3"
    }
  },
  "cells": [
    {
      "cell_type": "markdown",
      "metadata": {
        "id": "view-in-github",
        "colab_type": "text"
      },
      "source": [
        "<a href=\"https://colab.research.google.com/github/Andrey239/ML_LPI_2021/blob/main/seminar05/MLatFIAN2021_seminar05_homework.ipynb\" target=\"_parent\"><img src=\"https://colab.research.google.com/assets/colab-badge.svg\" alt=\"Open In Colab\"/></a>"
      ]
    },
    {
      "cell_type": "markdown",
      "metadata": {
        "id": "Ij_zY4soDF2Z"
      },
      "source": [
        "# Cross-validation riddle"
      ]
    },
    {
      "cell_type": "code",
      "metadata": {
        "id": "tEdUZ8TNKTa6"
      },
      "source": [
        ""
      ],
      "execution_count": null,
      "outputs": []
    },
    {
      "cell_type": "code",
      "metadata": {
        "id": "Wm9z3m6JKTx_"
      },
      "source": [
        ""
      ],
      "execution_count": null,
      "outputs": []
    },
    {
      "cell_type": "markdown",
      "metadata": {
        "id": "qUCsY5OlDJPl"
      },
      "source": [
        "Here's a small example of cross-validation done wrongly. Can you spot the problem?"
      ]
    },
    {
      "cell_type": "code",
      "metadata": {
        "id": "mSUzkXsC-R4H"
      },
      "source": [
        "# Some imports...\n",
        "import numpy as np\n",
        "import matplotlib.pyplot as plt\n",
        "\n",
        "from sklearn.svm import LinearSVC\n",
        "from sklearn.model_selection import KFold, cross_val_score\n",
        "from sklearn.metrics import accuracy_score\n",
        "from sklearn.linear_model import LinearRegression\n",
        "\n",
        "\n",
        "from sklearn.model_selection import train_test_split\n",
        "import sklearn.metrics as skmetrics\n",
        "from sklearn.model_selection import KFold"
      ],
      "execution_count": 27,
      "outputs": []
    },
    {
      "cell_type": "markdown",
      "metadata": {
        "id": "ZyDp3Xc_DaDM"
      },
      "source": [
        "**Plan:**\n",
        "\n",
        "- Let's create a binary classification dataset where targets are completely independent from the features\n",
        "  - *(i.e. no model could ever predict them well)*\n",
        "- We'll do some simple feature selection\n",
        "- And cross-validate a model on this data\n",
        "\n",
        "**Q:** what accuracy do we expect (classes are even)?"
      ]
    },
    {
      "cell_type": "markdown",
      "metadata": {
        "id": "IHx51DKP8Rcf"
      },
      "source": [
        "We'll start from writing a class to select the best features:"
      ]
    },
    {
      "cell_type": "code",
      "metadata": {
        "id": "rRNmKZJJ8W7x"
      },
      "source": [
        "class FeatureSelector:\n",
        "  def __init__(self, num_features):\n",
        "    self.n = num_features # number of best features to select\n",
        "\n",
        "  def fit(self, X, y):\n",
        "    # Select features that describe the targets best, i.e. have\n",
        "    # highest correlation with them:\n",
        "    covariance = ((X - X.mean(axis=0)) * (y[:,np.newaxis] - y.mean())).mean(axis=0)\n",
        "    self.best_feature_ids = np.argsort(np.abs(covariance))[-self.n:]\n",
        "    return self.best_feature_ids\n",
        "\n",
        "  def transform(self, X):\n",
        "    return X[:,self.best_feature_ids]\n",
        "\n",
        "  def fit_transform(self, X, y):\n",
        "    self.fit(X, y)\n",
        "    return self.transform(X)"
      ],
      "execution_count": 50,
      "outputs": []
    },
    {
      "cell_type": "code",
      "metadata": {
        "id": "6mu9gHgNBk_V",
        "colab": {
          "base_uri": "https://localhost:8080/"
        },
        "outputId": "994ba7c1-d016-4bfa-8c72-a28095afd83f"
      },
      "source": [
        "num_features_total = 1000\n",
        "num_features_best = 100\n",
        "\n",
        "N = 100\n",
        "\n",
        "# Dataset generation\n",
        "X = np.random.normal(size=(N, num_features_total))\n",
        "y = np.random.randint(2, size=N)\n",
        "\n",
        "# Feature selection:\n",
        "X_best = FeatureSelector(num_features_best).fit_transform(X, y)\n",
        "\n",
        "# Simple classification model\n",
        "model = LinearSVC()\n",
        "\n",
        "# Estimatin accuracy using cross-validation:\n",
        "cv_score = cross_val_score(model, X_best, y, scoring='accuracy', cv=10, n_jobs=-1).mean()\n",
        "print(f\"CV score is {cv_score}\")"
      ],
      "execution_count": 51,
      "outputs": [
        {
          "output_type": "stream",
          "name": "stdout",
          "text": [
            "CV score is 0.9199999999999999\n"
          ]
        }
      ]
    },
    {
      "cell_type": "markdown",
      "metadata": {
        "id": "afadN3ZVFKjF"
      },
      "source": [
        "What's going on?! Why accuracy is so high?\n",
        "\n",
        "Maybe it just happened by chance? Let's repeat this experiment many times and histogram the results:"
      ]
    },
    {
      "cell_type": "code",
      "metadata": {
        "id": "QDbOMXnuC6uw",
        "colab": {
          "base_uri": "https://localhost:8080/",
          "height": 1000
        },
        "outputId": "26fc337b-c145-41c0-9fee-1e102d803b68"
      },
      "source": [
        "num_features_total = 1000\n",
        "num_features_best = 100\n",
        "\n",
        "N = 100\n",
        "def experiment():\n",
        "  # Dataset generation\n",
        "  X = np.random.normal(size=(N, num_features_total))\n",
        "  y = np.random.randint(2, size=N)\n",
        "\n",
        "  # Feature selection:\n",
        "  X_best = FeatureSelector(num_features_best).fit_transform(X, y)\n",
        "  print(X_best.shape)\n",
        "\n",
        "  # Simple classification model\n",
        "  model = LinearSVC()\n",
        "\n",
        "  # Estimatin accuracy using cross-validation:\n",
        "  return cross_val_score(model, X_best, y, scoring='accuracy', cv=10, n_jobs=-1).mean()\n",
        "\n",
        "results = [experiment() for _ in range(100)]\n",
        "plt.hist(results, bins=10);"
      ],
      "execution_count": 52,
      "outputs": [
        {
          "output_type": "stream",
          "name": "stdout",
          "text": [
            "(100, 100)\n",
            "(100, 100)\n",
            "(100, 100)\n",
            "(100, 100)\n",
            "(100, 100)\n",
            "(100, 100)\n",
            "(100, 100)\n",
            "(100, 100)\n",
            "(100, 100)\n",
            "(100, 100)\n",
            "(100, 100)\n",
            "(100, 100)\n",
            "(100, 100)\n",
            "(100, 100)\n",
            "(100, 100)\n",
            "(100, 100)\n",
            "(100, 100)\n",
            "(100, 100)\n",
            "(100, 100)\n",
            "(100, 100)\n",
            "(100, 100)\n",
            "(100, 100)\n",
            "(100, 100)\n",
            "(100, 100)\n",
            "(100, 100)\n",
            "(100, 100)\n",
            "(100, 100)\n",
            "(100, 100)\n",
            "(100, 100)\n",
            "(100, 100)\n",
            "(100, 100)\n",
            "(100, 100)\n",
            "(100, 100)\n",
            "(100, 100)\n",
            "(100, 100)\n",
            "(100, 100)\n",
            "(100, 100)\n",
            "(100, 100)\n",
            "(100, 100)\n",
            "(100, 100)\n",
            "(100, 100)\n",
            "(100, 100)\n",
            "(100, 100)\n",
            "(100, 100)\n",
            "(100, 100)\n",
            "(100, 100)\n",
            "(100, 100)\n",
            "(100, 100)\n",
            "(100, 100)\n",
            "(100, 100)\n",
            "(100, 100)\n",
            "(100, 100)\n",
            "(100, 100)\n",
            "(100, 100)\n",
            "(100, 100)\n",
            "(100, 100)\n",
            "(100, 100)\n",
            "(100, 100)\n",
            "(100, 100)\n",
            "(100, 100)\n",
            "(100, 100)\n",
            "(100, 100)\n",
            "(100, 100)\n",
            "(100, 100)\n",
            "(100, 100)\n",
            "(100, 100)\n",
            "(100, 100)\n",
            "(100, 100)\n",
            "(100, 100)\n",
            "(100, 100)\n",
            "(100, 100)\n",
            "(100, 100)\n",
            "(100, 100)\n",
            "(100, 100)\n",
            "(100, 100)\n",
            "(100, 100)\n",
            "(100, 100)\n",
            "(100, 100)\n",
            "(100, 100)\n",
            "(100, 100)\n",
            "(100, 100)\n",
            "(100, 100)\n",
            "(100, 100)\n",
            "(100, 100)\n",
            "(100, 100)\n",
            "(100, 100)\n",
            "(100, 100)\n",
            "(100, 100)\n",
            "(100, 100)\n",
            "(100, 100)\n",
            "(100, 100)\n",
            "(100, 100)\n",
            "(100, 100)\n",
            "(100, 100)\n",
            "(100, 100)\n",
            "(100, 100)\n",
            "(100, 100)\n",
            "(100, 100)\n",
            "(100, 100)\n",
            "(100, 100)\n"
          ]
        },
        {
          "output_type": "display_data",
          "data": {
            "image/png": "[encoded data removed]",
            "text/plain": [
              "<Figure size 432x288 with 1 Axes>"
            ]
          },
          "metadata": {
            "needs_background": "light"
          }
        }
      ]
    },
    {
      "cell_type": "markdown",
      "metadata": {
        "id": "8bLaEypoF5pb"
      },
      "source": [
        "Explain why the estimated model accuracy is not 50% on a dataset where targets were generated **independently from the features (!!!)**.\n",
        "\n",
        "Find and fix the problem (don't change the dataset generation or its parameters - `num_features_total`, `num_features_best`, `N`).\n",
        "\n",
        "*Hint: the problem is in the overall logic, and not a bug in the code.*"
      ]
    },
    {
      "cell_type": "code",
      "metadata": {
        "id": "EfT36WPTLyqB"
      },
      "source": [
        ""
      ],
      "execution_count": null,
      "outputs": []
    },
    {
      "cell_type": "markdown",
      "source": [
        "Тут была какая-то проблема с тем как мы отбирали признаки. У нас они не были независимыми, так как мы их отбирали до крос валидации, передавая модели информацию. Если все сделать наоборот, должно работать"
      ],
      "metadata": {
        "id": "oCu3Ze5Q9I1B"
      }
    },
    {
      "cell_type": "code",
      "source": [
        "num_features_total = 1000\n",
        "num_features_best = 100\n",
        "\n",
        "N = 100\n",
        "def experiment():\n",
        "  # Dataset generation\n",
        "  X = np.random.normal(size=(N, num_features_total))\n",
        "  y = np.random.randint(2, size=N)\n",
        "\n",
        "  res = []\n",
        "  kf = KFold(n_splits=10)\n",
        "  for train, test in kf.split(X, y):\n",
        "    \n",
        "    X_train, X_test = X[train], X[test]\n",
        "    y_train, y_test = y[train], y[test]\n",
        "\n",
        "    X_train_best = FeatureSelector(num_features_best).fit_transform(X_train, y_train)\n",
        "    best_feature_ids = FeatureSelector(num_features_best).fit(X_train, y_train)\n",
        "   # print(best_feature_ids)\n",
        "    X_test_best = X_test[:,best_feature_ids]\n",
        "   # print(X_test.shape)\n",
        "    model = LinearSVC()\n",
        "    model.fit(X_train_best, y_train)\n",
        "   # print(X_test_best.shape)\n",
        "    y_pred = model.predict(X_test_best)\n",
        "    accuracy = skmetrics.accuracy_score(y_test, y_pred)\n",
        "    \n",
        "    res.append(accuracy)\n",
        "  return np.array(res).mean()\n",
        "\n",
        "results = [experiment() for _ in range(100)]\n",
        "plt.hist(results, bins=10);"
      ],
      "metadata": {
        "id": "LzD7-9-J9iCR",
        "outputId": "22a0e4b5-98eb-496a-ad51-e347eff370c5",
        "colab": {
          "base_uri": "https://localhost:8080/",
          "height": 265
        }
      },
      "execution_count": 54,
      "outputs": [
        {
          "output_type": "display_data",
          "data": {
            "image/png": "[encoded data removed]",
            "text/plain": [
              "<Figure size 432x288 with 1 Axes>"
            ]
          },
          "metadata": {
            "needs_background": "light"
          }
        }
      ]
    },
    {
      "cell_type": "markdown",
      "source": [
        "eh, decent enough"
      ],
      "metadata": {
        "id": "98vGO0ESEDOJ"
      }
    }
  ]
}