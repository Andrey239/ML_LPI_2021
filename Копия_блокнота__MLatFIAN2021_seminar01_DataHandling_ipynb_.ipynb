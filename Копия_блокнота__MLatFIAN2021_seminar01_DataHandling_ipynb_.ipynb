{
  "nbformat": 4,
  "nbformat_minor": 0,
  "metadata": {
    "colab": {
      "name": "Копия блокнота \"MLatFIAN2021_seminar01_DataHandling.ipynb\"",
      "provenance": [],
      "collapsed_sections": [],
      "toc_visible": true
    },
    "kernelspec": {
      "display_name": "Python 3",
      "language": "python",
      "name": "python3"
    },
    "language_info": {
      "codemirror_mode": {
        "name": "ipython",
        "version": 3
      },
      "file_extension": ".py",
      "mimetype": "text/x-python",
      "name": "python",
      "nbconvert_exporter": "python",
      "pygments_lexer": "ipython3",
      "version": "3.5.2"
    }
  },
  "cells": [
    {
      "cell_type": "markdown",
      "metadata": {
        "id": "n_nitmHugcSH"
      },
      "source": [
        "# Welcome"
      ]
    },
    {
      "cell_type": "markdown",
      "metadata": {
        "id": "pfojW1Laghph"
      },
      "source": [
        "During the practical sessions of the course we are going to use [Python programming language](https://www.python.org) in the [Google Colab environment](https://colab.research.google.com). Alternatively you can download some other python distribution, e.g. [anaconda](https://www.anaconda.com/) and run jupyter locally (see the [docs](https://jupyter.readthedocs.io/en/latest/running.html) for more info).\n",
        " \n",
        " If you are new to Python, please consider reading through the following tutorial:\n",
        " - https://docs.python.org/3.6/tutorial/\n",
        "\n",
        "In particular, the following parts of it should provide a more or less comprehensive introduction to the must-know basics:\n",
        "   - https://docs.python.org/3.6/tutorial/introduction.html\n",
        "   - https://docs.python.org/3.6/tutorial/controlflow.html\n",
        "   - https://docs.python.org/3.6/tutorial/datastructures.html\n",
        "   - https://docs.python.org/3.6/tutorial/modules.html\n",
        "   - https://docs.python.org/3.6/tutorial/classes.html"
      ]
    },
    {
      "cell_type": "markdown",
      "metadata": {
        "id": "wNKpO_suinc-"
      },
      "source": [
        "An overview of basic features of the Google Colab environment can be found [here](https://colab.research.google.com/notebooks/basic_features_overview.ipynb)."
      ]
    },
    {
      "cell_type": "markdown",
      "metadata": {
        "id": "Aw1cuRi7hhzz"
      },
      "source": [
        "# Titanic: Machine Learning from Disaster"
      ]
    },
    {
      "cell_type": "markdown",
      "metadata": {
        "id": "w3muhqoaJXVL"
      },
      "source": [
        "![\"Untergang der Titanic\", as conceived by Willy Stöwer, 1912](https://upload.wikimedia.org/wikipedia/commons/6/6e/St%C3%B6wer_Titanic.jpg)\n",
        "\n",
        "This notebook's gonna teach you to use the basic data science stack for python: jupyter, numpy, matplotlib and sklearn."
      ]
    },
    {
      "cell_type": "markdown",
      "metadata": {
        "id": "I_J_iM9Hjwc3"
      },
      "source": [
        "## Part I: Jupyter notebooks recap"
      ]
    },
    {
      "cell_type": "markdown",
      "metadata": {
        "id": "lyB4dc4Lt7xp"
      },
      "source": [
        "This whole document you are looking at right now is a **jupyter notebook**. You can think of jupyter as of a browser-friendly python development environment.\n",
        "\n",
        "For each notebook there's a python interpreter running behind the scenes, also called a **kernel**. The notebook consists of **cells** - either *code* cells, or *text* cells. E.g. this text you're reading is in a text cell.\n",
        "\n",
        "An example of a code cell can be found below. You can execute its code by placing the coursor in it and hitting `Shift + Enter`.\n",
        "\n",
        "__please keep running all the code cells as you read__"
      ]
    },
    {
      "cell_type": "code",
      "metadata": {
        "id": "pJak2EJ-vEYd",
        "colab": {
          "base_uri": "https://localhost:8080/"
        },
        "outputId": "02485fe1-4a33-423e-f8d3-7623fbe0f5d5"
      },
      "source": [
        "print('Hello world')"
      ],
      "execution_count": null,
      "outputs": [
        {
          "output_type": "stream",
          "name": "stdout",
          "text": [
            "Hello world\n"
          ]
        }
      ]
    },
    {
      "cell_type": "markdown",
      "metadata": {
        "id": "HMZCQoKzvMJv"
      },
      "source": [
        "Note that same python session is used to run the code from different cells. So, for example, by defining a variable in one cell, you can re-use it in another:"
      ]
    },
    {
      "cell_type": "code",
      "metadata": {
        "id": "yeSmID9LvKgS"
      },
      "source": [
        "some_number = 42"
      ],
      "execution_count": null,
      "outputs": []
    },
    {
      "cell_type": "code",
      "metadata": {
        "id": "K7o2AxcoveeN",
        "colab": {
          "base_uri": "https://localhost:8080/"
        },
        "outputId": "9fb14058-55c5-4029-8cae-97707001df74"
      },
      "source": [
        "some_number**2"
      ],
      "execution_count": null,
      "outputs": [
        {
          "output_type": "execute_result",
          "data": {
            "text/plain": [
              "1764"
            ]
          },
          "metadata": {},
          "execution_count": 3
        }
      ]
    },
    {
      "cell_type": "markdown",
      "metadata": {
        "id": "s9QW0Uojvlxh"
      },
      "source": [
        "Jupyter allows you to run cells in an arbitrary order, which may make your code a bit messy and complicated to debug. In general it's a good practice to write your code such that it successfully runs from top to bottom in a clean environment. To reset your environment back to a clean state click `Runtime -> Restart runtime` (in regular jupter: `Kernel -> Restart`)."
      ]
    },
    {
      "cell_type": "markdown",
      "metadata": {
        "id": "De2BsSxGJXVV"
      },
      "source": [
        "**The most important feature** of jupyter notebooks for this course: \n",
        "* contextual help: the behaviour depends on whether you're running this in google colab or in regular jupyter.\n",
        "  * In colab the suggestions / documentation will appear automatically as you type.\n",
        "  * In regular jupyter if you're typing something, press `Tab` to see automatic suggestions / `Shift + Tab` for function documentation.\n",
        "\n",
        "*Note: here we'll assume you're using google colab*"
      ]
    },
    {
      "cell_type": "code",
      "metadata": {
        "id": "5oQdc9MIJXVW"
      },
      "source": [
        "# run this first\n",
        "import math"
      ],
      "execution_count": null,
      "outputs": []
    },
    {
      "cell_type": "code",
      "metadata": {
        "id": "4FZxJodmJXVZ",
        "colab": {
          "base_uri": "https://localhost:8080/"
        },
        "outputId": "8315f848-57e1-403e-ee6f-34ba49ab1a84"
      },
      "source": [
        "# Place your cursor at the end of the unfinished line below and \n",
        "# type in '.' to see the contextual help and\n",
        "# find a function that computes arctangent from two parameters (should\n",
        "# have 2 in it's name).\n",
        "# Once you chose it, put an opening bracket character to\n",
        "# see the docs.\n",
        "\n",
        "math  # <--- type in a '.' symbol to see suggestions"
      ],
      "execution_count": null,
      "outputs": [
        {
          "output_type": "execute_result",
          "data": {
            "text/plain": [
              "<module 'math' (built-in)>"
            ]
          },
          "metadata": {},
          "execution_count": 5
        }
      ]
    },
    {
      "cell_type": "markdown",
      "metadata": {
        "id": "-cY1PEyznRYw"
      },
      "source": [
        "## Part II: Numpy and vectorized computing"
      ]
    },
    {
      "cell_type": "markdown",
      "metadata": {
        "id": "4luG6vWXJXWU"
      },
      "source": [
        "Almost any machine learning model requires some computational heavy lifting usually involving linear algebra problems. Unfortunately, raw python is terrible at this because each operation is interpreted at runtime. \n",
        "\n",
        "So instead, we'll use `numpy` - a library that lets you run blazing fast computation with vectors, matrices and other tensors. It's written in lower-level programming languages like C or Fortran and only uses python as an interface.\n",
        "\n",
        "Quoting [documentation](https://numpy.org/devdocs/user/quickstart.html):\n",
        "> NumPy’s main object is the homogeneous multidimensional array. It is a table of elements (usually numbers), all of the same type, indexed by a tuple of non-negative integers. In NumPy dimensions are called axes.\n",
        "\n",
        "\n",
        "\n",
        "\n",
        "This object is called `numpy.ndarray` (\"nd\" standing for \"N-dimensional\"). It is also aliased to `numpy.array`:"
      ]
    },
    {
      "cell_type": "code",
      "metadata": {
        "id": "gcTokNL-JXWV",
        "colab": {
          "base_uri": "https://localhost:8080/"
        },
        "outputId": "cacba489-e2ab-4d77-fb2f-2b8c82dcb00e"
      },
      "source": [
        "import numpy as np\n",
        "\n",
        "a = np.array([1,2,3,4,5])\n",
        "b = np.array([5,4,3,2,1])\n",
        "print(\"a = \", a)\n",
        "print(\"b = \", b)\n",
        "\n",
        "# math and boolean operations can applied to each element of an array\n",
        "print(\"a + 1 =\", a + 1)\n",
        "print(\"a * 2 =\", a * 2)\n",
        "print(\"a == 2\", a == 2)\n",
        "# ... or corresponding elements of two (or more) arrays\n",
        "print(\"a + b =\", a + b)\n",
        "print(\"a * b =\", a * b)"
      ],
      "execution_count": null,
      "outputs": [
        {
          "output_type": "stream",
          "name": "stdout",
          "text": [
            "a =  [1 2 3 4 5]\n",
            "b =  [5 4 3 2 1]\n",
            "a + 1 = [2 3 4 5 6]\n",
            "a * 2 = [ 2  4  6  8 10]\n",
            "a == 2 [False  True False False False]\n",
            "a + b = [6 6 6 6 6]\n",
            "a * b = [5 8 9 8 5]\n"
          ]
        }
      ]
    },
    {
      "cell_type": "code",
      "metadata": {
        "id": "40slF_H1JXWY",
        "colab": {
          "base_uri": "https://localhost:8080/",
          "height": 129
        },
        "outputId": "965dd60d-f3fa-451b-ae8b-7e56755f3c3f"
      },
      "source": [
        "# Your turn: compute half-products of a and b elements (halves of products)\n",
        "i did that"
      ],
      "execution_count": null,
      "outputs": [
        {
          "output_type": "error",
          "ename": "SyntaxError",
          "evalue": "ignored",
          "traceback": [
            "\u001b[0;36m  File \u001b[0;32m\"<ipython-input-7-77aec38d69f7>\"\u001b[0;36m, line \u001b[0;32m2\u001b[0m\n\u001b[0;31m    i did that\u001b[0m\n\u001b[0m        ^\u001b[0m\n\u001b[0;31mSyntaxError\u001b[0m\u001b[0;31m:\u001b[0m invalid syntax\n"
          ]
        }
      ]
    },
    {
      "cell_type": "code",
      "metadata": {
        "id": "EnNXgtaaJXWa"
      },
      "source": [
        "# compute elementwise quotient between squared a and (b plus 1)\n",
        "<YOUR CODE>"
      ],
      "execution_count": null,
      "outputs": []
    },
    {
      "cell_type": "markdown",
      "metadata": {
        "id": "KSkrSyKTnJBp"
      },
      "source": [
        "```\n",
        "\n",
        "```\n",
        "\n",
        "```\n",
        "\n",
        "```\n",
        "\n",
        "```\n",
        "\n",
        "```\n",
        "\n",
        "```\n",
        "\n",
        "```\n",
        "\n",
        "```\n",
        "\n",
        "```"
      ]
    },
    {
      "cell_type": "markdown",
      "metadata": {
        "id": "uHV6HlQgoL-r"
      },
      "source": [
        "There's a number of functions to create arrays of zeros, ones, ascending/descending numbers etc.:"
      ]
    },
    {
      "cell_type": "code",
      "metadata": {
        "id": "dCqkfcCWoi1I",
        "colab": {
          "base_uri": "https://localhost:8080/"
        },
        "outputId": "42c7fb50-1792-4407-f686-05fbbcdd27e7"
      },
      "source": [
        "np.zeros(shape=(3, 4))"
      ],
      "execution_count": null,
      "outputs": [
        {
          "output_type": "execute_result",
          "data": {
            "text/plain": [
              "array([[0., 0., 0., 0.],\n",
              "       [0., 0., 0., 0.],\n",
              "       [0., 0., 0., 0.]])"
            ]
          },
          "metadata": {},
          "execution_count": 8
        }
      ]
    },
    {
      "cell_type": "code",
      "metadata": {
        "id": "NAee3VdtorX8",
        "colab": {
          "base_uri": "https://localhost:8080/"
        },
        "outputId": "514deb34-c922-48f9-cf3a-c1bd0a1e2aea"
      },
      "source": [
        "np.ones(shape=(2, 5), dtype=np.bool)"
      ],
      "execution_count": null,
      "outputs": [
        {
          "output_type": "execute_result",
          "data": {
            "text/plain": [
              "array([[ True,  True,  True,  True,  True],\n",
              "       [ True,  True,  True,  True,  True]])"
            ]
          },
          "metadata": {},
          "execution_count": 9
        }
      ]
    },
    {
      "cell_type": "code",
      "metadata": {
        "id": "ymW4lMqpozFn",
        "colab": {
          "base_uri": "https://localhost:8080/"
        },
        "outputId": "293a8475-a852-4278-bf8f-1be52770b3f4"
      },
      "source": [
        "np.arange(3, 15, 2) # start, stop, step"
      ],
      "execution_count": null,
      "outputs": [
        {
          "output_type": "execute_result",
          "data": {
            "text/plain": [
              "array([ 3,  5,  7,  9, 11, 13])"
            ]
          },
          "metadata": {},
          "execution_count": 10
        }
      ]
    },
    {
      "cell_type": "code",
      "metadata": {
        "id": "KQi-FGqto_ty",
        "colab": {
          "base_uri": "https://localhost:8080/"
        },
        "outputId": "5fd4d0a2-6aaa-4067-ede2-4535000ba056"
      },
      "source": [
        "np.linspace(0, 10, 11) # divide [0, 10] interval into 11 points"
      ],
      "execution_count": null,
      "outputs": [
        {
          "output_type": "execute_result",
          "data": {
            "text/plain": [
              "array([ 0.,  1.,  2.,  3.,  4.,  5.,  6.,  7.,  8.,  9., 10.])"
            ]
          },
          "metadata": {},
          "execution_count": 11
        }
      ]
    },
    {
      "cell_type": "code",
      "metadata": {
        "id": "7d7MlvuqpJ0S",
        "colab": {
          "base_uri": "https://localhost:8080/"
        },
        "outputId": "b0658ee2-9a2c-4f6c-f628-0a1f59cb5949"
      },
      "source": [
        "np.logspace(1, 10, 10, base=2, dtype=np.int64)"
      ],
      "execution_count": null,
      "outputs": [
        {
          "output_type": "execute_result",
          "data": {
            "text/plain": [
              "array([   2,    4,    8,   16,   32,   64,  128,  256,  512, 1024])"
            ]
          },
          "metadata": {},
          "execution_count": 12
        }
      ]
    },
    {
      "cell_type": "markdown",
      "metadata": {
        "id": "C4hb3shSpdBf"
      },
      "source": [
        "You can easily reshape arrays:"
      ]
    },
    {
      "cell_type": "code",
      "metadata": {
        "id": "83xNeecTphm4",
        "colab": {
          "base_uri": "https://localhost:8080/"
        },
        "outputId": "c319d02e-a318-4f11-abcb-980d3b40d4fc"
      },
      "source": [
        "np.arange(24).reshape(2, 3, 4)"
      ],
      "execution_count": null,
      "outputs": [
        {
          "output_type": "execute_result",
          "data": {
            "text/plain": [
              "array([[[ 0,  1,  2,  3],\n",
              "        [ 4,  5,  6,  7],\n",
              "        [ 8,  9, 10, 11]],\n",
              "\n",
              "       [[12, 13, 14, 15],\n",
              "        [16, 17, 18, 19],\n",
              "        [20, 21, 22, 23]]])"
            ]
          },
          "metadata": {},
          "execution_count": 13
        }
      ]
    },
    {
      "cell_type": "markdown",
      "metadata": {
        "id": "F_evgKCtpzpk"
      },
      "source": [
        "or add dimensions of size 1:"
      ]
    },
    {
      "cell_type": "code",
      "metadata": {
        "id": "It_JTbIiqCTH",
        "colab": {
          "base_uri": "https://localhost:8080/"
        },
        "outputId": "5a6d58b4-5673-4be1-ee04-2a987235eb8d"
      },
      "source": [
        "print(np.arange(3)[:, np.newaxis])\n",
        "print('---')\n",
        "print(np.arange(3)[np.newaxis, :])\n",
        "\n",
        "#### Or similarly:\n",
        "\n",
        "# print(np.arange(3)[:, None])\n",
        "# print('---')\n",
        "# print(np.arange(3)[None, :])"
      ],
      "execution_count": null,
      "outputs": [
        {
          "output_type": "stream",
          "name": "stdout",
          "text": [
            "[[0]\n",
            " [1]\n",
            " [2]]\n",
            "---\n",
            "[[0 1 2]]\n"
          ]
        }
      ]
    },
    {
      "cell_type": "markdown",
      "metadata": {
        "id": "4eE5Uq8GqO75"
      },
      "source": [
        "Such dimensions are automatically broadcast when doing mathematical operations:"
      ]
    },
    {
      "cell_type": "code",
      "metadata": {
        "id": "VmO2UtjtqcEU",
        "colab": {
          "base_uri": "https://localhost:8080/"
        },
        "outputId": "cfbf2b91-a3e7-4a00-c006-91e40efcea09"
      },
      "source": [
        "print(np.arange(3)[:, np.newaxis] + np.zeros(shape=(3, 3), dtype=int))\n",
        "print()\n",
        "print(np.arange(3)[np.newaxis, :] + np.zeros(shape=(3, 3), dtype=int))"
      ],
      "execution_count": null,
      "outputs": [
        {
          "output_type": "stream",
          "name": "stdout",
          "text": [
            "[[0 0 0]\n",
            " [1 1 1]\n",
            " [2 2 2]]\n",
            "\n",
            "[[0 1 2]\n",
            " [0 1 2]\n",
            " [0 1 2]]\n"
          ]
        }
      ]
    },
    {
      "cell_type": "markdown",
      "metadata": {
        "id": "pfmFlVopqzId"
      },
      "source": [
        "There is also a number of ways to stack arrays together:"
      ]
    },
    {
      "cell_type": "code",
      "metadata": {
        "id": "WzfKzymGq3wX",
        "colab": {
          "base_uri": "https://localhost:8080/"
        },
        "outputId": "b727992f-a1f8-4b35-d460-ce8321101804"
      },
      "source": [
        "matrix1 = np.arange(50).reshape(10, 5)\n",
        "matrix2 = -np.arange(20).reshape(10, 2)\n",
        "\n",
        "np.concatenate([matrix1, matrix2], axis=1)"
      ],
      "execution_count": null,
      "outputs": [
        {
          "output_type": "execute_result",
          "data": {
            "text/plain": [
              "array([[  0,   1,   2,   3,   4,   0,  -1],\n",
              "       [  5,   6,   7,   8,   9,  -2,  -3],\n",
              "       [ 10,  11,  12,  13,  14,  -4,  -5],\n",
              "       [ 15,  16,  17,  18,  19,  -6,  -7],\n",
              "       [ 20,  21,  22,  23,  24,  -8,  -9],\n",
              "       [ 25,  26,  27,  28,  29, -10, -11],\n",
              "       [ 30,  31,  32,  33,  34, -12, -13],\n",
              "       [ 35,  36,  37,  38,  39, -14, -15],\n",
              "       [ 40,  41,  42,  43,  44, -16, -17],\n",
              "       [ 45,  46,  47,  48,  49, -18, -19]])"
            ]
          },
          "metadata": {},
          "execution_count": 16
        }
      ]
    },
    {
      "cell_type": "code",
      "metadata": {
        "id": "EqJnzNehrYYP",
        "colab": {
          "base_uri": "https://localhost:8080/"
        },
        "outputId": "632059c7-ecd5-444b-809b-f8ffca8b4aab"
      },
      "source": [
        "A = matrix1[:,0]\n",
        "B = matrix2[:,0]\n",
        "\n",
        "print(A)\n",
        "print('---')\n",
        "print(B)\n",
        "print('---')\n",
        "print(np.stack([A, B], axis=1))\n",
        "\n"
      ],
      "execution_count": null,
      "outputs": [
        {
          "output_type": "stream",
          "name": "stdout",
          "text": [
            "[ 0  5 10 15 20 25 30 35 40 45]\n",
            "---\n",
            "[  0  -2  -4  -6  -8 -10 -12 -14 -16 -18]\n",
            "---\n",
            "[[  0   0]\n",
            " [  5  -2]\n",
            " [ 10  -4]\n",
            " [ 15  -6]\n",
            " [ 20  -8]\n",
            " [ 25 -10]\n",
            " [ 30 -12]\n",
            " [ 35 -14]\n",
            " [ 40 -16]\n",
            " [ 45 -18]]\n"
          ]
        }
      ]
    },
    {
      "cell_type": "markdown",
      "metadata": {
        "id": "MulZJhPBr6ie"
      },
      "source": [
        "Any matrix can be transposed easily:"
      ]
    },
    {
      "cell_type": "code",
      "metadata": {
        "id": "KIeOCQ-wr_Q6",
        "colab": {
          "base_uri": "https://localhost:8080/"
        },
        "outputId": "e0fc6847-a27e-4418-89dd-9d7cc4c66bd3"
      },
      "source": [
        "print(matrix2)\n",
        "print('---')\n",
        "print(matrix2.T)"
      ],
      "execution_count": null,
      "outputs": [
        {
          "output_type": "stream",
          "name": "stdout",
          "text": [
            "[[  0  -1]\n",
            " [ -2  -3]\n",
            " [ -4  -5]\n",
            " [ -6  -7]\n",
            " [ -8  -9]\n",
            " [-10 -11]\n",
            " [-12 -13]\n",
            " [-14 -15]\n",
            " [-16 -17]\n",
            " [-18 -19]]\n",
            "---\n",
            "[[  0  -2  -4  -6  -8 -10 -12 -14 -16 -18]\n",
            " [ -1  -3  -5  -7  -9 -11 -13 -15 -17 -19]]\n"
          ]
        }
      ]
    },
    {
      "cell_type": "code",
      "metadata": {
        "id": "SIceEFFiMK5k",
        "colab": {
          "base_uri": "https://localhost:8080/"
        },
        "outputId": "195e50e8-69c9-4f62-c1a5-ba4a104805c5"
      },
      "source": [
        "print('matrix2.shape =', matrix2.shape)\n",
        "print('matrix2.T.shape =', matrix2.T.shape)"
      ],
      "execution_count": null,
      "outputs": [
        {
          "output_type": "stream",
          "name": "stdout",
          "text": [
            "matrix2.shape = (10, 2)\n",
            "matrix2.T.shape = (2, 10)\n"
          ]
        }
      ]
    },
    {
      "cell_type": "code",
      "metadata": {
        "id": "WnajGvSrsP-t",
        "colab": {
          "base_uri": "https://localhost:8080/"
        },
        "outputId": "2810779d-83bb-4b82-f9d9-7c1b8e00aa1f"
      },
      "source": [
        "# Your turn: make a (7 x 5) matrix with e_ij = i\n",
        "# (i - row number, j - column number)\n",
        "#\n",
        "# Avoid using loops.\n",
        "\n",
        "print(np.arange(7)[:, np.newaxis] + np.ones(shape=(7, 5), dtype=int))\n"
      ],
      "execution_count": null,
      "outputs": [
        {
          "output_type": "stream",
          "name": "stdout",
          "text": [
            "[[1 1 1 1 1]\n",
            " [2 2 2 2 2]\n",
            " [3 3 3 3 3]\n",
            " [4 4 4 4 4]\n",
            " [5 5 5 5 5]\n",
            " [6 6 6 6 6]\n",
            " [7 7 7 7 7]]\n"
          ]
        }
      ]
    },
    {
      "cell_type": "markdown",
      "metadata": {
        "id": "56X724n8nNK9"
      },
      "source": [
        "### How fast is it?"
      ]
    },
    {
      "cell_type": "markdown",
      "metadata": {
        "id": "J7ugCw1wJXWc"
      },
      "source": [
        "Let's compare computation time for python and numpy\n",
        "* Two arrays of 10^6 elements\n",
        " * first - from 0 to 1 000 000\n",
        " * second - from 99 to 1 000 099\n",
        " \n",
        "* Computing:\n",
        " * elemwise sum\n",
        " * elemwise product\n",
        " * square root of first array\n",
        " * sum of all elements in the first array\n",
        " "
      ]
    },
    {
      "cell_type": "code",
      "metadata": {
        "id": "hkaH4AkUJXWd",
        "colab": {
          "base_uri": "https://localhost:8080/"
        },
        "outputId": "fce4ec65-404f-44e7-dd5a-278fbdbd8dfb"
      },
      "source": [
        "%%time \n",
        "# ^-- this \"magic\" measures and prints cell computation time\n",
        "\n",
        "# Option I: pure python\n",
        "arr_1 = range(1000000)\n",
        "arr_2 = range(99,1000099)\n",
        "\n",
        "\n",
        "a_sum = []\n",
        "a_prod = []\n",
        "sqrt_a1 = []\n",
        "for i in range(len(arr_1)):\n",
        "    a_sum.append(arr_1[i]+arr_2[i])\n",
        "    a_prod.append(arr_1[i]*arr_2[i])\n",
        "    a_sum.append(arr_1[i]**0.5)\n",
        "    \n",
        "arr_1_sum = sum(arr_1)\n"
      ],
      "execution_count": null,
      "outputs": [
        {
          "output_type": "stream",
          "name": "stdout",
          "text": [
            "CPU times: user 1.36 s, sys: 107 ms, total: 1.46 s\n",
            "Wall time: 1.47 s\n"
          ]
        }
      ]
    },
    {
      "cell_type": "code",
      "metadata": {
        "id": "BasUnM6uJXWf",
        "colab": {
          "base_uri": "https://localhost:8080/"
        },
        "outputId": "a5f11e60-a30e-4198-8112-5c1038fe7ab6"
      },
      "source": [
        "%%time\n",
        "\n",
        "# Option II: start from python, convert to numpy\n",
        "arr_1 = range(1000000)\n",
        "arr_2 = range(99,1000099)\n",
        "\n",
        "arr_1, arr_2 = np.array(arr_1) , np.array(arr_2)\n",
        "\n",
        "\n",
        "a_sum = arr_1 + arr_2\n",
        "a_prod = arr_1 * arr_2\n",
        "sqrt_a1 = arr_1 ** .5\n",
        "arr_1_sum = arr_1.sum()\n"
      ],
      "execution_count": null,
      "outputs": [
        {
          "output_type": "stream",
          "name": "stdout",
          "text": [
            "CPU times: user 411 ms, sys: 108 ms, total: 520 ms\n",
            "Wall time: 516 ms\n"
          ]
        }
      ]
    },
    {
      "cell_type": "code",
      "metadata": {
        "id": "whU6BvJ6JXWi",
        "colab": {
          "base_uri": "https://localhost:8080/"
        },
        "outputId": "e2b8599c-112a-4b1e-9310-a2e8b447011b"
      },
      "source": [
        "%%time\n",
        "\n",
        "# Option III: pure numpy\n",
        "arr_1 = np.arange(1000000)\n",
        "arr_2 = np.arange(99,1000099)\n",
        "\n",
        "a_sum = arr_1 + arr_2\n",
        "a_prod = arr_1 * arr_2\n",
        "sqrt_a1 = arr_1 ** .5\n",
        "arr_1_sum = arr_1.sum()\n"
      ],
      "execution_count": null,
      "outputs": [
        {
          "output_type": "stream",
          "name": "stdout",
          "text": [
            "CPU times: user 82.5 ms, sys: 2 µs, total: 82.5 ms\n",
            "Wall time: 84 ms\n"
          ]
        }
      ]
    },
    {
      "cell_type": "markdown",
      "metadata": {
        "id": "7Jc5_Z5wJXWl"
      },
      "source": [
        "If you want more serious benchmarks, take a look at [this](http://brilliantlywrong.blogspot.ru/2015/01/benchmarks-of-speed-numpy-vs-all.html)."
      ]
    },
    {
      "cell_type": "markdown",
      "metadata": {
        "id": "H2cYqf_UJXWm"
      },
      "source": [
        "```\n",
        "\n",
        "```\n",
        "\n",
        "```\n",
        "\n",
        "```\n",
        "\n",
        "```\n",
        "\n",
        "```\n",
        "\n",
        "```\n",
        "\n",
        "```\n",
        "\n",
        "```\n",
        "\n",
        "```\n",
        "\n",
        "```\n",
        "\n",
        "```\n",
        "\n",
        "```\n",
        "\n",
        "```"
      ]
    },
    {
      "cell_type": "markdown",
      "metadata": {
        "id": "OPtaPKy3uI6A"
      },
      "source": [
        "### Other numpy functions and features"
      ]
    },
    {
      "cell_type": "markdown",
      "metadata": {
        "id": "S-8KaYRmuM4m"
      },
      "source": [
        "There's also a bunch of pre-implemented operations including logarithms, trigonometry, vector/matrix products and aggregations."
      ]
    },
    {
      "cell_type": "code",
      "metadata": {
        "id": "RklGSklbJXWn",
        "colab": {
          "base_uri": "https://localhost:8080/"
        },
        "outputId": "876181ec-3afb-4c3a-b703-7160e3cd05b2"
      },
      "source": [
        "a = np.array([1,2,3,4,5])\n",
        "b = np.array([5,4,3,2,1])\n",
        "print(\"numpy.sum(a) = \", np.sum(a))\n",
        "print(\"numpy.mean(a) = \", np.mean(a))\n",
        "print(\"numpy.min(a) = \",  np.min(a))\n",
        "print(\"numpy.argmin(b) = \", np.argmin(b))  # index of minimal element\n",
        "print(\"numpy.dot(a,b) = \", np.dot(a, b))      # dot product. Also used for matrix/tensor multiplication\n",
        "print(\"numpy.unique(['male','male','female','female','male']) = \", np.unique(['male','male','female','female','male']))\n",
        "\n",
        "# and tons of other stuff. see http://bit.ly/2u5q430 ."
      ],
      "execution_count": null,
      "outputs": [
        {
          "output_type": "stream",
          "name": "stdout",
          "text": [
            "numpy.sum(a) =  15\n",
            "numpy.mean(a) =  3.0\n",
            "numpy.min(a) =  1\n",
            "numpy.argmin(b) =  4\n",
            "numpy.dot(a,b) =  35\n",
            "numpy.unique(['male','male','female','female','male']) =  ['female' 'male']\n"
          ]
        }
      ]
    },
    {
      "cell_type": "code",
      "metadata": {
        "id": "4N_kpGw3NcGk",
        "colab": {
          "base_uri": "https://localhost:8080/"
        },
        "outputId": "32af1534-0aed-4997-a8b0-2cda626f07ef"
      },
      "source": [
        "# most of this functions are also implemented as members of numpy arrays, e.g.:\n",
        "print('a.min() =', a.min())\n",
        "print('a.mean() =', a.mean())"
      ],
      "execution_count": null,
      "outputs": [
        {
          "output_type": "stream",
          "name": "stdout",
          "text": [
            "a.min() = 1\n",
            "a.mean() = 3.0\n"
          ]
        }
      ]
    },
    {
      "cell_type": "code",
      "metadata": {
        "id": "Jkq07GT5JXW0",
        "colab": {
          "base_uri": "https://localhost:8080/"
        },
        "outputId": "a6d8d69e-607a-41c4-b385-ee9d0632fa4c"
      },
      "source": [
        "print(\"Boolean operations\")\n",
        "\n",
        "print('a = ', a)\n",
        "print('b = ', b)\n",
        "print(\"a > 2\", a > 2)\n",
        "print(\"numpy.logical_not(a>2) = \", np.logical_not(a>2))\n",
        "print(\"numpy.logical_and(a>2,b>2) = \", np.logical_and(a > 2,b > 2))\n",
        "print(\"numpy.logical_or(a>2,b<3) = \", np.logical_or(a > 2, b < 3))\n",
        "\n",
        "print(\"\\n shortcuts\")\n",
        "print(\"~(a > 2) = \", ~(a > 2))                    #logical_not(a > 2)\n",
        "print(\"(a > 2) & (b > 2) = \", (a > 2) & (b > 2))  #logical_and\n",
        "print(\"(a > 2) | (b < 3) = \", (a > 2) | (b < 3))  #logical_or"
      ],
      "execution_count": null,
      "outputs": [
        {
          "output_type": "stream",
          "name": "stdout",
          "text": [
            "Boolean operations\n",
            "a =  [1 2 3 4 5]\n",
            "b =  [5 4 3 2 1]\n",
            "a > 2 [False False  True  True  True]\n",
            "numpy.logical_not(a>2) =  [ True  True False False False]\n",
            "numpy.logical_and(a>2,b>2) =  [False False  True False False]\n",
            "numpy.logical_or(a>2,b<3) =  [False False  True  True  True]\n",
            "\n",
            " shortcuts\n",
            "~(a > 2) =  [ True  True False False False]\n",
            "(a > 2) & (b > 2) =  [False False  True False False]\n",
            "(a > 2) | (b < 3) =  [False False  True  True  True]\n"
          ]
        }
      ]
    },
    {
      "cell_type": "markdown",
      "metadata": {
        "id": "VBkDTTOLJXW3"
      },
      "source": [
        "Another numpy feature we'll need is indexing: selecting elements from an array. \n",
        "Aside from python indexes and slices (e.g. a[1:4]), numpy also allows you to select several elements at once."
      ]
    },
    {
      "cell_type": "code",
      "metadata": {
        "id": "RDtdSCMAPyLL",
        "colab": {
          "base_uri": "https://localhost:8080/"
        },
        "outputId": "59b8d08d-83a2-4199-c8d9-90d4b5d73b7f"
      },
      "source": [
        "a = np.arange(24).reshape(4, 6)\n",
        "print(a)\n",
        "print('---')\n",
        "print(a[1:3,0:6:2])"
      ],
      "execution_count": null,
      "outputs": [
        {
          "output_type": "stream",
          "name": "stdout",
          "text": [
            "[[ 0  1  2  3  4  5]\n",
            " [ 6  7  8  9 10 11]\n",
            " [12 13 14 15 16 17]\n",
            " [18 19 20 21 22 23]]\n",
            "---\n",
            "[[ 6  8 10]\n",
            " [12 14 16]]\n"
          ]
        }
      ]
    },
    {
      "cell_type": "code",
      "metadata": {
        "id": "MhXHB6fgJXW4",
        "colab": {
          "base_uri": "https://localhost:8080/"
        },
        "outputId": "618051a5-ced2-4052-c923-71eec383a741"
      },
      "source": [
        "a = np.array([0, 1, 4, 9, 16, 25])\n",
        "ix = np.array([1,2,5])\n",
        "print(\"a = \", a)\n",
        "print(\"Select by element index\")\n",
        "print(\"a[[1,2,5]] = \", a[ix])\n",
        "\n",
        "print(\"\\nSelect by boolean mask\")\n",
        "print(\"a[a > 5] = \", a[a > 5])     # select all elements in a that are greater than 5\n",
        "print(\"(a % 2 == 0) =\", a % 2 == 0) # True for even, False for odd\n",
        "print(\"a[a % 2 == 0] =\", a[a % 2 == 0]) # select all elements in a that are even"
      ],
      "execution_count": null,
      "outputs": [
        {
          "output_type": "stream",
          "name": "stdout",
          "text": [
            "a =  [ 0  1  4  9 16 25]\n",
            "Select by element index\n",
            "a[[1,2,5]] =  [ 1  4 25]\n",
            "\n",
            "Select by boolean mask\n",
            "a[a > 5] =  [ 9 16 25]\n",
            "(a % 2 == 0) = [ True False  True False  True False]\n",
            "a[a % 2 == 0] = [ 0  4 16]\n"
          ]
        }
      ]
    },
    {
      "cell_type": "markdown",
      "metadata": {
        "id": "iD6NjAugj_3y"
      },
      "source": [
        "## Part III: Loading data with Pandas"
      ]
    },
    {
      "cell_type": "markdown",
      "metadata": {
        "id": "K0OYaO-6JXVb"
      },
      "source": [
        "Pandas is a library that helps you load the data, prepare it and perform some lightweight analysis. The god object here is the `pandas.DataFrame` - a 2d table with batteries included (it actually runs numpy under the hood).\n",
        "\n",
        "In the cell below we use it to read the data on the infamous titanic shipwreck."
      ]
    },
    {
      "cell_type": "code",
      "metadata": {
        "id": "4CWHxPY62I-D",
        "colab": {
          "base_uri": "https://localhost:8080/"
        },
        "outputId": "11e5dc9b-0705-4b9e-9935-ba8131328a74"
      },
      "source": [
        "!wget https://github.com/HSE-LAMBDA/MLatFIAN2021/raw/main/seminar01/train.csv"
      ],
      "execution_count": null,
      "outputs": [
        {
          "output_type": "stream",
          "name": "stdout",
          "text": [
            "--2021-09-17 17:41:44--  https://github.com/HSE-LAMBDA/MLatFIAN2021/raw/main/seminar01/train.csv\n",
            "Resolving github.com (github.com)... 140.82.114.3\n",
            "Connecting to github.com (github.com)|140.82.114.3|:443... connected.\n",
            "HTTP request sent, awaiting response... 302 Found\n",
            "Location: https://raw.githubusercontent.com/HSE-LAMBDA/MLatFIAN2021/main/seminar01/train.csv [following]\n",
            "--2021-09-17 17:41:45--  https://raw.githubusercontent.com/HSE-LAMBDA/MLatFIAN2021/main/seminar01/train.csv\n",
            "Resolving raw.githubusercontent.com (raw.githubusercontent.com)... 185.199.111.133, 185.199.110.133, 185.199.108.133, ...\n",
            "Connecting to raw.githubusercontent.com (raw.githubusercontent.com)|185.199.111.133|:443... connected.\n",
            "HTTP request sent, awaiting response... 200 OK\n",
            "Length: 60302 (59K) [text/plain]\n",
            "Saving to: ‘train.csv’\n",
            "\n",
            "train.csv           100%[===================>]  58.89K  --.-KB/s    in 0.01s   \n",
            "\n",
            "2021-09-17 17:41:45 (4.92 MB/s) - ‘train.csv’ saved [60302/60302]\n",
            "\n"
          ]
        }
      ]
    },
    {
      "cell_type": "code",
      "metadata": {
        "id": "G36oVo3RJXVc"
      },
      "source": [
        "import pandas as pd\n",
        "data = pd.read_csv(\"train.csv\", index_col='PassengerId') # this yields a pandas.DataFrame"
      ],
      "execution_count": null,
      "outputs": []
    },
    {
      "cell_type": "code",
      "metadata": {
        "id": "gEvLO4nvJXVf",
        "colab": {
          "base_uri": "https://localhost:8080/",
          "height": 235
        },
        "outputId": "2f13d268-4111-4ece-b279-76552deb43d5"
      },
      "source": [
        "# Take a look at the data\n",
        "\n",
        "data.head() # selects top 5 lines"
      ],
      "execution_count": null,
      "outputs": [
        {
          "output_type": "execute_result",
          "data": {
            "text/html": [
              "<div>\n",
              "<style scoped>\n",
              "    .dataframe tbody tr th:only-of-type {\n",
              "        vertical-align: middle;\n",
              "    }\n",
              "\n",
              "    .dataframe tbody tr th {\n",
              "        vertical-align: top;\n",
              "    }\n",
              "\n",
              "    .dataframe thead th {\n",
              "        text-align: right;\n",
              "    }\n",
              "</style>\n",
              "<table border=\"1\" class=\"dataframe\">\n",
              "  <thead>\n",
              "    <tr style=\"text-align: right;\">\n",
              "      <th></th>\n",
              "      <th>Survived</th>\n",
              "      <th>Pclass</th>\n",
              "      <th>Name</th>\n",
              "      <th>Sex</th>\n",
              "      <th>Age</th>\n",
              "      <th>SibSp</th>\n",
              "      <th>Parch</th>\n",
              "      <th>Ticket</th>\n",
              "      <th>Fare</th>\n",
              "      <th>Cabin</th>\n",
              "      <th>Embarked</th>\n",
              "    </tr>\n",
              "    <tr>\n",
              "      <th>PassengerId</th>\n",
              "      <th></th>\n",
              "      <th></th>\n",
              "      <th></th>\n",
              "      <th></th>\n",
              "      <th></th>\n",
              "      <th></th>\n",
              "      <th></th>\n",
              "      <th></th>\n",
              "      <th></th>\n",
              "      <th></th>\n",
              "      <th></th>\n",
              "    </tr>\n",
              "  </thead>\n",
              "  <tbody>\n",
              "    <tr>\n",
              "      <th>1</th>\n",
              "      <td>0</td>\n",
              "      <td>3</td>\n",
              "      <td>Braund, Mr. Owen Harris</td>\n",
              "      <td>male</td>\n",
              "      <td>22.0</td>\n",
              "      <td>1</td>\n",
              "      <td>0</td>\n",
              "      <td>A/5 21171</td>\n",
              "      <td>7.2500</td>\n",
              "      <td>NaN</td>\n",
              "      <td>S</td>\n",
              "    </tr>\n",
              "    <tr>\n",
              "      <th>2</th>\n",
              "      <td>1</td>\n",
              "      <td>1</td>\n",
              "      <td>Cumings, Mrs. John Bradley (Florence Briggs Th...</td>\n",
              "      <td>female</td>\n",
              "      <td>38.0</td>\n",
              "      <td>1</td>\n",
              "      <td>0</td>\n",
              "      <td>PC 17599</td>\n",
              "      <td>71.2833</td>\n",
              "      <td>C85</td>\n",
              "      <td>C</td>\n",
              "    </tr>\n",
              "    <tr>\n",
              "      <th>3</th>\n",
              "      <td>1</td>\n",
              "      <td>3</td>\n",
              "      <td>Heikkinen, Miss. Laina</td>\n",
              "      <td>female</td>\n",
              "      <td>26.0</td>\n",
              "      <td>0</td>\n",
              "      <td>0</td>\n",
              "      <td>STON/O2. 3101282</td>\n",
              "      <td>7.9250</td>\n",
              "      <td>NaN</td>\n",
              "      <td>S</td>\n",
              "    </tr>\n",
              "    <tr>\n",
              "      <th>4</th>\n",
              "      <td>1</td>\n",
              "      <td>1</td>\n",
              "      <td>Futrelle, Mrs. Jacques Heath (Lily May Peel)</td>\n",
              "      <td>female</td>\n",
              "      <td>35.0</td>\n",
              "      <td>1</td>\n",
              "      <td>0</td>\n",
              "      <td>113803</td>\n",
              "      <td>53.1000</td>\n",
              "      <td>C123</td>\n",
              "      <td>S</td>\n",
              "    </tr>\n",
              "    <tr>\n",
              "      <th>5</th>\n",
              "      <td>0</td>\n",
              "      <td>3</td>\n",
              "      <td>Allen, Mr. William Henry</td>\n",
              "      <td>male</td>\n",
              "      <td>35.0</td>\n",
              "      <td>0</td>\n",
              "      <td>0</td>\n",
              "      <td>373450</td>\n",
              "      <td>8.0500</td>\n",
              "      <td>NaN</td>\n",
              "      <td>S</td>\n",
              "    </tr>\n",
              "  </tbody>\n",
              "</table>\n",
              "</div>"
            ],
            "text/plain": [
              "             Survived  Pclass  ... Cabin Embarked\n",
              "PassengerId                    ...               \n",
              "1                   0       3  ...   NaN        S\n",
              "2                   1       1  ...   C85        C\n",
              "3                   1       3  ...   NaN        S\n",
              "4                   1       1  ...  C123        S\n",
              "5                   0       3  ...   NaN        S\n",
              "\n",
              "[5 rows x 11 columns]"
            ]
          },
          "metadata": {},
          "execution_count": 31
        }
      ]
    },
    {
      "cell_type": "markdown",
      "metadata": {
        "id": "EDHw3sHgJXVj"
      },
      "source": [
        "#### About the data\n",
        "Here's some of the columns\n",
        "* Name - a string with person's full name\n",
        "* Survived - 1 if a person survived the shipwreck, 0 otherwise.\n",
        "* Pclass - passenger class. Pclass == 3 is cheap'n'cheerful, Pclass == 1 is for moneybags.\n",
        "* Sex - a person's gender\n",
        "* Age - age in years, if available\n",
        "* Sibsp - number of siblings on a ship\n",
        "* Parch - number of parents on a ship\n",
        "* Fare - ticket cost\n",
        "* Embarked - port where the passenger embarked\n",
        " * C = Cherbourg; Q = Queenstown; S = Southampton"
      ]
    },
    {
      "cell_type": "code",
      "metadata": {
        "id": "PWmRBFP6JXVl",
        "colab": {
          "base_uri": "https://localhost:8080/"
        },
        "outputId": "322835fa-0fee-4f82-8323-26e87f12d0a0"
      },
      "source": [
        "# table dimensions\n",
        "print(\"len(data) = \", len(data))\n",
        "print(\"data.shape = \", data.shape)"
      ],
      "execution_count": null,
      "outputs": [
        {
          "output_type": "stream",
          "name": "stdout",
          "text": [
            "len(data) =  891\n",
            "data.shape =  (891, 11)\n"
          ]
        }
      ]
    },
    {
      "cell_type": "code",
      "metadata": {
        "id": "dt6itIHBJXVn",
        "colab": {
          "base_uri": "https://localhost:8080/"
        },
        "outputId": "f0e94a1b-b203-4d94-aa38-190a67ed5337"
      },
      "source": [
        "# select a single row\n",
        "print(data.loc[4])"
      ],
      "execution_count": null,
      "outputs": [
        {
          "output_type": "stream",
          "name": "stdout",
          "text": [
            "Survived                                               1\n",
            "Pclass                                                 1\n",
            "Name        Futrelle, Mrs. Jacques Heath (Lily May Peel)\n",
            "Sex                                               female\n",
            "Age                                                   35\n",
            "SibSp                                                  1\n",
            "Parch                                                  0\n",
            "Ticket                                            113803\n",
            "Fare                                                53.1\n",
            "Cabin                                               C123\n",
            "Embarked                                               S\n",
            "Name: 4, dtype: object\n"
          ]
        }
      ]
    },
    {
      "cell_type": "code",
      "metadata": {
        "id": "wdpiKMr7JXVq",
        "colab": {
          "base_uri": "https://localhost:8080/"
        },
        "outputId": "a9feb6f9-89f6-4582-c880-ddacc4b61ad9"
      },
      "source": [
        "# select a single column.\n",
        "ages = data[\"Age\"] # alternatively: data.Age\n",
        "print(ages.loc[:10])"
      ],
      "execution_count": null,
      "outputs": [
        {
          "output_type": "stream",
          "name": "stdout",
          "text": [
            "PassengerId\n",
            "1     22.0\n",
            "2     38.0\n",
            "3     26.0\n",
            "4     35.0\n",
            "5     35.0\n",
            "6      NaN\n",
            "7     54.0\n",
            "8      2.0\n",
            "9     27.0\n",
            "10    14.0\n",
            "Name: Age, dtype: float64\n"
          ]
        }
      ]
    },
    {
      "cell_type": "code",
      "metadata": {
        "id": "-ao3OhDtJXVu",
        "colab": {
          "base_uri": "https://localhost:8080/",
          "height": 266
        },
        "outputId": "65145e4c-b609-4611-83c8-1a5b87d67e2f"
      },
      "source": [
        "# select several columns and rows at once\n",
        "data.loc[5:10, (\"Fare\", \"Pclass\")]    # alternatively: data[[\"Fare\",\"Pclass\"]].loc[5:10]"
      ],
      "execution_count": null,
      "outputs": [
        {
          "output_type": "execute_result",
          "data": {
            "text/html": [
              "<div>\n",
              "<style scoped>\n",
              "    .dataframe tbody tr th:only-of-type {\n",
              "        vertical-align: middle;\n",
              "    }\n",
              "\n",
              "    .dataframe tbody tr th {\n",
              "        vertical-align: top;\n",
              "    }\n",
              "\n",
              "    .dataframe thead th {\n",
              "        text-align: right;\n",
              "    }\n",
              "</style>\n",
              "<table border=\"1\" class=\"dataframe\">\n",
              "  <thead>\n",
              "    <tr style=\"text-align: right;\">\n",
              "      <th></th>\n",
              "      <th>Fare</th>\n",
              "      <th>Pclass</th>\n",
              "    </tr>\n",
              "    <tr>\n",
              "      <th>PassengerId</th>\n",
              "      <th></th>\n",
              "      <th></th>\n",
              "    </tr>\n",
              "  </thead>\n",
              "  <tbody>\n",
              "    <tr>\n",
              "      <th>5</th>\n",
              "      <td>8.0500</td>\n",
              "      <td>3</td>\n",
              "    </tr>\n",
              "    <tr>\n",
              "      <th>6</th>\n",
              "      <td>8.4583</td>\n",
              "      <td>3</td>\n",
              "    </tr>\n",
              "    <tr>\n",
              "      <th>7</th>\n",
              "      <td>51.8625</td>\n",
              "      <td>1</td>\n",
              "    </tr>\n",
              "    <tr>\n",
              "      <th>8</th>\n",
              "      <td>21.0750</td>\n",
              "      <td>3</td>\n",
              "    </tr>\n",
              "    <tr>\n",
              "      <th>9</th>\n",
              "      <td>11.1333</td>\n",
              "      <td>3</td>\n",
              "    </tr>\n",
              "    <tr>\n",
              "      <th>10</th>\n",
              "      <td>30.0708</td>\n",
              "      <td>2</td>\n",
              "    </tr>\n",
              "  </tbody>\n",
              "</table>\n",
              "</div>"
            ],
            "text/plain": [
              "                Fare  Pclass\n",
              "PassengerId                 \n",
              "5             8.0500       3\n",
              "6             8.4583       3\n",
              "7            51.8625       1\n",
              "8            21.0750       3\n",
              "9            11.1333       3\n",
              "10           30.0708       2"
            ]
          },
          "metadata": {},
          "execution_count": 35
        }
      ]
    },
    {
      "cell_type": "markdown",
      "metadata": {
        "id": "h7jqzyjLp9qe"
      },
      "source": [
        "### `loc` vs `iloc`"
      ]
    },
    {
      "cell_type": "markdown",
      "metadata": {
        "id": "qR-MSiiiqDB4"
      },
      "source": [
        "There are two ways of indexing the rows in pandas:\n",
        " *   by index column values (`PassengerId` in our case) – use `data.loc` for that\n",
        " *   by positional index - use `data.iloc` for that"
      ]
    },
    {
      "cell_type": "markdown",
      "metadata": {
        "id": "uXCOFn0Fqr1M"
      },
      "source": [
        "Note that index column starts from 1, so positional index 0 will correspond to index column value 1, positional 1 to index column value 2, and so on:"
      ]
    },
    {
      "cell_type": "code",
      "metadata": {
        "id": "PWD9vfcIqjAH",
        "colab": {
          "base_uri": "https://localhost:8080/"
        },
        "outputId": "608e0f00-3cf0-473d-cfa2-e1b70462194f"
      },
      "source": [
        "print(data.index)\n",
        "print('------')\n",
        "print(\"data.iloc[0]:\")\n",
        "print(data.iloc[0])\n",
        "print('------')\n",
        "print(\"data.loc[1]:\")\n",
        "print(data.loc[1])"
      ],
      "execution_count": null,
      "outputs": [
        {
          "output_type": "stream",
          "name": "stdout",
          "text": [
            "Int64Index([  1,   2,   3,   4,   5,   6,   7,   8,   9,  10,\n",
            "            ...\n",
            "            882, 883, 884, 885, 886, 887, 888, 889, 890, 891],\n",
            "           dtype='int64', name='PassengerId', length=891)\n",
            "------\n",
            "data.iloc[0]:\n",
            "Survived                          0\n",
            "Pclass                            3\n",
            "Name        Braund, Mr. Owen Harris\n",
            "Sex                            male\n",
            "Age                              22\n",
            "SibSp                             1\n",
            "Parch                             0\n",
            "Ticket                    A/5 21171\n",
            "Fare                           7.25\n",
            "Cabin                           NaN\n",
            "Embarked                          S\n",
            "Name: 1, dtype: object\n",
            "------\n",
            "data.loc[1]:\n",
            "Survived                          0\n",
            "Pclass                            3\n",
            "Name        Braund, Mr. Owen Harris\n",
            "Sex                            male\n",
            "Age                              22\n",
            "SibSp                             1\n",
            "Parch                             0\n",
            "Ticket                    A/5 21171\n",
            "Fare                           7.25\n",
            "Cabin                           NaN\n",
            "Embarked                          S\n",
            "Name: 1, dtype: object\n"
          ]
        }
      ]
    },
    {
      "cell_type": "markdown",
      "metadata": {
        "id": "zqkU4nzfgxok"
      },
      "source": [
        "Also note that when indexing with `.loc` both slice ends are included:"
      ]
    },
    {
      "cell_type": "code",
      "metadata": {
        "id": "lI0C2cG8g3To",
        "colab": {
          "base_uri": "https://localhost:8080/"
        },
        "outputId": "78b28439-06bb-4eda-ccf1-74df3f5dda6a"
      },
      "source": [
        "data.loc[13]"
      ],
      "execution_count": null,
      "outputs": [
        {
          "output_type": "execute_result",
          "data": {
            "text/plain": [
              "Survived                                 0\n",
              "Pclass                                   3\n",
              "Name        Saundercock, Mr. William Henry\n",
              "Sex                                   male\n",
              "Age                                     20\n",
              "SibSp                                    0\n",
              "Parch                                    0\n",
              "Ticket                           A/5. 2151\n",
              "Fare                                  8.05\n",
              "Cabin                                  NaN\n",
              "Embarked                                 S\n",
              "Name: 13, dtype: object"
            ]
          },
          "metadata": {},
          "execution_count": 37
        }
      ]
    },
    {
      "cell_type": "markdown",
      "metadata": {
        "id": "kMf9SqMwg7Uw"
      },
      "source": [
        "while with `.iloc` the end is excluded:"
      ]
    },
    {
      "cell_type": "code",
      "metadata": {
        "id": "S5JFLNVag6aP",
        "colab": {
          "base_uri": "https://localhost:8080/",
          "height": 111
        },
        "outputId": "3cf9946f-bdb0-4aa7-b266-7cc37a36a481"
      },
      "source": [
        "data.iloc[1:2]"
      ],
      "execution_count": null,
      "outputs": [
        {
          "output_type": "execute_result",
          "data": {
            "text/html": [
              "<div>\n",
              "<style scoped>\n",
              "    .dataframe tbody tr th:only-of-type {\n",
              "        vertical-align: middle;\n",
              "    }\n",
              "\n",
              "    .dataframe tbody tr th {\n",
              "        vertical-align: top;\n",
              "    }\n",
              "\n",
              "    .dataframe thead th {\n",
              "        text-align: right;\n",
              "    }\n",
              "</style>\n",
              "<table border=\"1\" class=\"dataframe\">\n",
              "  <thead>\n",
              "    <tr style=\"text-align: right;\">\n",
              "      <th></th>\n",
              "      <th>Survived</th>\n",
              "      <th>Pclass</th>\n",
              "      <th>Name</th>\n",
              "      <th>Sex</th>\n",
              "      <th>Age</th>\n",
              "      <th>SibSp</th>\n",
              "      <th>Parch</th>\n",
              "      <th>Ticket</th>\n",
              "      <th>Fare</th>\n",
              "      <th>Cabin</th>\n",
              "      <th>Embarked</th>\n",
              "    </tr>\n",
              "    <tr>\n",
              "      <th>PassengerId</th>\n",
              "      <th></th>\n",
              "      <th></th>\n",
              "      <th></th>\n",
              "      <th></th>\n",
              "      <th></th>\n",
              "      <th></th>\n",
              "      <th></th>\n",
              "      <th></th>\n",
              "      <th></th>\n",
              "      <th></th>\n",
              "      <th></th>\n",
              "    </tr>\n",
              "  </thead>\n",
              "  <tbody>\n",
              "    <tr>\n",
              "      <th>2</th>\n",
              "      <td>1</td>\n",
              "      <td>1</td>\n",
              "      <td>Cumings, Mrs. John Bradley (Florence Briggs Th...</td>\n",
              "      <td>female</td>\n",
              "      <td>38.0</td>\n",
              "      <td>1</td>\n",
              "      <td>0</td>\n",
              "      <td>PC 17599</td>\n",
              "      <td>71.2833</td>\n",
              "      <td>C85</td>\n",
              "      <td>C</td>\n",
              "    </tr>\n",
              "  </tbody>\n",
              "</table>\n",
              "</div>"
            ],
            "text/plain": [
              "             Survived  Pclass  ... Cabin Embarked\n",
              "PassengerId                    ...               \n",
              "2                   1       1  ...   C85        C\n",
              "\n",
              "[1 rows x 11 columns]"
            ]
          },
          "metadata": {},
          "execution_count": 38
        }
      ]
    },
    {
      "cell_type": "markdown",
      "metadata": {
        "id": "FJgo08cJi6i6"
      },
      "source": [
        "More complicated indexing (similar to boolean indexing in numpy):"
      ]
    },
    {
      "cell_type": "code",
      "metadata": {
        "id": "aMkc1lqHPjAo",
        "colab": {
          "base_uri": "https://localhost:8080/",
          "height": 1000
        },
        "outputId": "d94d087f-07b6-4a23-b1f3-accd7bb86c9b"
      },
      "source": [
        "print(\"data[(data['Age'] < 18) & (data['Sex'] == 'male')] = (below)\") # select male children\n",
        "data.loc[(data['Age'] < 18) & (data['Sex'] == 'male')]"
      ],
      "execution_count": null,
      "outputs": [
        {
          "output_type": "stream",
          "name": "stdout",
          "text": [
            "data[(data['Age'] < 18) & (data['Sex'] == 'male')] = (below)\n"
          ]
        },
        {
          "output_type": "execute_result",
          "data": {
            "text/html": [
              "<div>\n",
              "<style scoped>\n",
              "    .dataframe tbody tr th:only-of-type {\n",
              "        vertical-align: middle;\n",
              "    }\n",
              "\n",
              "    .dataframe tbody tr th {\n",
              "        vertical-align: top;\n",
              "    }\n",
              "\n",
              "    .dataframe thead th {\n",
              "        text-align: right;\n",
              "    }\n",
              "</style>\n",
              "<table border=\"1\" class=\"dataframe\">\n",
              "  <thead>\n",
              "    <tr style=\"text-align: right;\">\n",
              "      <th></th>\n",
              "      <th>Survived</th>\n",
              "      <th>Pclass</th>\n",
              "      <th>Name</th>\n",
              "      <th>Sex</th>\n",
              "      <th>Age</th>\n",
              "      <th>SibSp</th>\n",
              "      <th>Parch</th>\n",
              "      <th>Ticket</th>\n",
              "      <th>Fare</th>\n",
              "      <th>Cabin</th>\n",
              "      <th>Embarked</th>\n",
              "    </tr>\n",
              "    <tr>\n",
              "      <th>PassengerId</th>\n",
              "      <th></th>\n",
              "      <th></th>\n",
              "      <th></th>\n",
              "      <th></th>\n",
              "      <th></th>\n",
              "      <th></th>\n",
              "      <th></th>\n",
              "      <th></th>\n",
              "      <th></th>\n",
              "      <th></th>\n",
              "      <th></th>\n",
              "    </tr>\n",
              "  </thead>\n",
              "  <tbody>\n",
              "    <tr>\n",
              "      <th>8</th>\n",
              "      <td>0</td>\n",
              "      <td>3</td>\n",
              "      <td>Palsson, Master. Gosta Leonard</td>\n",
              "      <td>male</td>\n",
              "      <td>2.00</td>\n",
              "      <td>3</td>\n",
              "      <td>1</td>\n",
              "      <td>349909</td>\n",
              "      <td>21.0750</td>\n",
              "      <td>NaN</td>\n",
              "      <td>S</td>\n",
              "    </tr>\n",
              "    <tr>\n",
              "      <th>17</th>\n",
              "      <td>0</td>\n",
              "      <td>3</td>\n",
              "      <td>Rice, Master. Eugene</td>\n",
              "      <td>male</td>\n",
              "      <td>2.00</td>\n",
              "      <td>4</td>\n",
              "      <td>1</td>\n",
              "      <td>382652</td>\n",
              "      <td>29.1250</td>\n",
              "      <td>NaN</td>\n",
              "      <td>Q</td>\n",
              "    </tr>\n",
              "    <tr>\n",
              "      <th>51</th>\n",
              "      <td>0</td>\n",
              "      <td>3</td>\n",
              "      <td>Panula, Master. Juha Niilo</td>\n",
              "      <td>male</td>\n",
              "      <td>7.00</td>\n",
              "      <td>4</td>\n",
              "      <td>1</td>\n",
              "      <td>3101295</td>\n",
              "      <td>39.6875</td>\n",
              "      <td>NaN</td>\n",
              "      <td>S</td>\n",
              "    </tr>\n",
              "    <tr>\n",
              "      <th>60</th>\n",
              "      <td>0</td>\n",
              "      <td>3</td>\n",
              "      <td>Goodwin, Master. William Frederick</td>\n",
              "      <td>male</td>\n",
              "      <td>11.00</td>\n",
              "      <td>5</td>\n",
              "      <td>2</td>\n",
              "      <td>CA 2144</td>\n",
              "      <td>46.9000</td>\n",
              "      <td>NaN</td>\n",
              "      <td>S</td>\n",
              "    </tr>\n",
              "    <tr>\n",
              "      <th>64</th>\n",
              "      <td>0</td>\n",
              "      <td>3</td>\n",
              "      <td>Skoog, Master. Harald</td>\n",
              "      <td>male</td>\n",
              "      <td>4.00</td>\n",
              "      <td>3</td>\n",
              "      <td>2</td>\n",
              "      <td>347088</td>\n",
              "      <td>27.9000</td>\n",
              "      <td>NaN</td>\n",
              "      <td>S</td>\n",
              "    </tr>\n",
              "    <tr>\n",
              "      <th>79</th>\n",
              "      <td>1</td>\n",
              "      <td>2</td>\n",
              "      <td>Caldwell, Master. Alden Gates</td>\n",
              "      <td>male</td>\n",
              "      <td>0.83</td>\n",
              "      <td>0</td>\n",
              "      <td>2</td>\n",
              "      <td>248738</td>\n",
              "      <td>29.0000</td>\n",
              "      <td>NaN</td>\n",
              "      <td>S</td>\n",
              "    </tr>\n",
              "    <tr>\n",
              "      <th>87</th>\n",
              "      <td>0</td>\n",
              "      <td>3</td>\n",
              "      <td>Ford, Mr. William Neal</td>\n",
              "      <td>male</td>\n",
              "      <td>16.00</td>\n",
              "      <td>1</td>\n",
              "      <td>3</td>\n",
              "      <td>W./C. 6608</td>\n",
              "      <td>34.3750</td>\n",
              "      <td>NaN</td>\n",
              "      <td>S</td>\n",
              "    </tr>\n",
              "    <tr>\n",
              "      <th>126</th>\n",
              "      <td>1</td>\n",
              "      <td>3</td>\n",
              "      <td>Nicola-Yarred, Master. Elias</td>\n",
              "      <td>male</td>\n",
              "      <td>12.00</td>\n",
              "      <td>1</td>\n",
              "      <td>0</td>\n",
              "      <td>2651</td>\n",
              "      <td>11.2417</td>\n",
              "      <td>NaN</td>\n",
              "      <td>C</td>\n",
              "    </tr>\n",
              "    <tr>\n",
              "      <th>139</th>\n",
              "      <td>0</td>\n",
              "      <td>3</td>\n",
              "      <td>Osen, Mr. Olaf Elon</td>\n",
              "      <td>male</td>\n",
              "      <td>16.00</td>\n",
              "      <td>0</td>\n",
              "      <td>0</td>\n",
              "      <td>7534</td>\n",
              "      <td>9.2167</td>\n",
              "      <td>NaN</td>\n",
              "      <td>S</td>\n",
              "    </tr>\n",
              "    <tr>\n",
              "      <th>164</th>\n",
              "      <td>0</td>\n",
              "      <td>3</td>\n",
              "      <td>Calic, Mr. Jovo</td>\n",
              "      <td>male</td>\n",
              "      <td>17.00</td>\n",
              "      <td>0</td>\n",
              "      <td>0</td>\n",
              "      <td>315093</td>\n",
              "      <td>8.6625</td>\n",
              "      <td>NaN</td>\n",
              "      <td>S</td>\n",
              "    </tr>\n",
              "    <tr>\n",
              "      <th>165</th>\n",
              "      <td>0</td>\n",
              "      <td>3</td>\n",
              "      <td>Panula, Master. Eino Viljami</td>\n",
              "      <td>male</td>\n",
              "      <td>1.00</td>\n",
              "      <td>4</td>\n",
              "      <td>1</td>\n",
              "      <td>3101295</td>\n",
              "      <td>39.6875</td>\n",
              "      <td>NaN</td>\n",
              "      <td>S</td>\n",
              "    </tr>\n",
              "    <tr>\n",
              "      <th>166</th>\n",
              "      <td>1</td>\n",
              "      <td>3</td>\n",
              "      <td>Goldsmith, Master. Frank John William \"Frankie\"</td>\n",
              "      <td>male</td>\n",
              "      <td>9.00</td>\n",
              "      <td>0</td>\n",
              "      <td>2</td>\n",
              "      <td>363291</td>\n",
              "      <td>20.5250</td>\n",
              "      <td>NaN</td>\n",
              "      <td>S</td>\n",
              "    </tr>\n",
              "    <tr>\n",
              "      <th>172</th>\n",
              "      <td>0</td>\n",
              "      <td>3</td>\n",
              "      <td>Rice, Master. Arthur</td>\n",
              "      <td>male</td>\n",
              "      <td>4.00</td>\n",
              "      <td>4</td>\n",
              "      <td>1</td>\n",
              "      <td>382652</td>\n",
              "      <td>29.1250</td>\n",
              "      <td>NaN</td>\n",
              "      <td>Q</td>\n",
              "    </tr>\n",
              "    <tr>\n",
              "      <th>183</th>\n",
              "      <td>0</td>\n",
              "      <td>3</td>\n",
              "      <td>Asplund, Master. Clarence Gustaf Hugo</td>\n",
              "      <td>male</td>\n",
              "      <td>9.00</td>\n",
              "      <td>4</td>\n",
              "      <td>2</td>\n",
              "      <td>347077</td>\n",
              "      <td>31.3875</td>\n",
              "      <td>NaN</td>\n",
              "      <td>S</td>\n",
              "    </tr>\n",
              "    <tr>\n",
              "      <th>184</th>\n",
              "      <td>1</td>\n",
              "      <td>2</td>\n",
              "      <td>Becker, Master. Richard F</td>\n",
              "      <td>male</td>\n",
              "      <td>1.00</td>\n",
              "      <td>2</td>\n",
              "      <td>1</td>\n",
              "      <td>230136</td>\n",
              "      <td>39.0000</td>\n",
              "      <td>F4</td>\n",
              "      <td>S</td>\n",
              "    </tr>\n",
              "    <tr>\n",
              "      <th>194</th>\n",
              "      <td>1</td>\n",
              "      <td>2</td>\n",
              "      <td>Navratil, Master. Michel M</td>\n",
              "      <td>male</td>\n",
              "      <td>3.00</td>\n",
              "      <td>1</td>\n",
              "      <td>1</td>\n",
              "      <td>230080</td>\n",
              "      <td>26.0000</td>\n",
              "      <td>F2</td>\n",
              "      <td>S</td>\n",
              "    </tr>\n",
              "    <tr>\n",
              "      <th>221</th>\n",
              "      <td>1</td>\n",
              "      <td>3</td>\n",
              "      <td>Sunderland, Mr. Victor Francis</td>\n",
              "      <td>male</td>\n",
              "      <td>16.00</td>\n",
              "      <td>0</td>\n",
              "      <td>0</td>\n",
              "      <td>SOTON/OQ 392089</td>\n",
              "      <td>8.0500</td>\n",
              "      <td>NaN</td>\n",
              "      <td>S</td>\n",
              "    </tr>\n",
              "    <tr>\n",
              "      <th>262</th>\n",
              "      <td>1</td>\n",
              "      <td>3</td>\n",
              "      <td>Asplund, Master. Edvin Rojj Felix</td>\n",
              "      <td>male</td>\n",
              "      <td>3.00</td>\n",
              "      <td>4</td>\n",
              "      <td>2</td>\n",
              "      <td>347077</td>\n",
              "      <td>31.3875</td>\n",
              "      <td>NaN</td>\n",
              "      <td>S</td>\n",
              "    </tr>\n",
              "    <tr>\n",
              "      <th>267</th>\n",
              "      <td>0</td>\n",
              "      <td>3</td>\n",
              "      <td>Panula, Mr. Ernesti Arvid</td>\n",
              "      <td>male</td>\n",
              "      <td>16.00</td>\n",
              "      <td>4</td>\n",
              "      <td>1</td>\n",
              "      <td>3101295</td>\n",
              "      <td>39.6875</td>\n",
              "      <td>NaN</td>\n",
              "      <td>S</td>\n",
              "    </tr>\n",
              "    <tr>\n",
              "      <th>279</th>\n",
              "      <td>0</td>\n",
              "      <td>3</td>\n",
              "      <td>Rice, Master. Eric</td>\n",
              "      <td>male</td>\n",
              "      <td>7.00</td>\n",
              "      <td>4</td>\n",
              "      <td>1</td>\n",
              "      <td>382652</td>\n",
              "      <td>29.1250</td>\n",
              "      <td>NaN</td>\n",
              "      <td>Q</td>\n",
              "    </tr>\n",
              "    <tr>\n",
              "      <th>283</th>\n",
              "      <td>0</td>\n",
              "      <td>3</td>\n",
              "      <td>de Pelsmaeker, Mr. Alfons</td>\n",
              "      <td>male</td>\n",
              "      <td>16.00</td>\n",
              "      <td>0</td>\n",
              "      <td>0</td>\n",
              "      <td>345778</td>\n",
              "      <td>9.5000</td>\n",
              "      <td>NaN</td>\n",
              "      <td>S</td>\n",
              "    </tr>\n",
              "    <tr>\n",
              "      <th>306</th>\n",
              "      <td>1</td>\n",
              "      <td>1</td>\n",
              "      <td>Allison, Master. Hudson Trevor</td>\n",
              "      <td>male</td>\n",
              "      <td>0.92</td>\n",
              "      <td>1</td>\n",
              "      <td>2</td>\n",
              "      <td>113781</td>\n",
              "      <td>151.5500</td>\n",
              "      <td>C22 C26</td>\n",
              "      <td>S</td>\n",
              "    </tr>\n",
              "    <tr>\n",
              "      <th>334</th>\n",
              "      <td>0</td>\n",
              "      <td>3</td>\n",
              "      <td>Vander Planke, Mr. Leo Edmondus</td>\n",
              "      <td>male</td>\n",
              "      <td>16.00</td>\n",
              "      <td>2</td>\n",
              "      <td>0</td>\n",
              "      <td>345764</td>\n",
              "      <td>18.0000</td>\n",
              "      <td>NaN</td>\n",
              "      <td>S</td>\n",
              "    </tr>\n",
              "    <tr>\n",
              "      <th>341</th>\n",
              "      <td>1</td>\n",
              "      <td>2</td>\n",
              "      <td>Navratil, Master. Edmond Roger</td>\n",
              "      <td>male</td>\n",
              "      <td>2.00</td>\n",
              "      <td>1</td>\n",
              "      <td>1</td>\n",
              "      <td>230080</td>\n",
              "      <td>26.0000</td>\n",
              "      <td>F2</td>\n",
              "      <td>S</td>\n",
              "    </tr>\n",
              "    <tr>\n",
              "      <th>349</th>\n",
              "      <td>1</td>\n",
              "      <td>3</td>\n",
              "      <td>Coutts, Master. William Loch \"William\"</td>\n",
              "      <td>male</td>\n",
              "      <td>3.00</td>\n",
              "      <td>1</td>\n",
              "      <td>1</td>\n",
              "      <td>C.A. 37671</td>\n",
              "      <td>15.9000</td>\n",
              "      <td>NaN</td>\n",
              "      <td>S</td>\n",
              "    </tr>\n",
              "    <tr>\n",
              "      <th>353</th>\n",
              "      <td>0</td>\n",
              "      <td>3</td>\n",
              "      <td>Elias, Mr. Tannous</td>\n",
              "      <td>male</td>\n",
              "      <td>15.00</td>\n",
              "      <td>1</td>\n",
              "      <td>1</td>\n",
              "      <td>2695</td>\n",
              "      <td>7.2292</td>\n",
              "      <td>NaN</td>\n",
              "      <td>C</td>\n",
              "    </tr>\n",
              "    <tr>\n",
              "      <th>387</th>\n",
              "      <td>0</td>\n",
              "      <td>3</td>\n",
              "      <td>Goodwin, Master. Sidney Leonard</td>\n",
              "      <td>male</td>\n",
              "      <td>1.00</td>\n",
              "      <td>5</td>\n",
              "      <td>2</td>\n",
              "      <td>CA 2144</td>\n",
              "      <td>46.9000</td>\n",
              "      <td>NaN</td>\n",
              "      <td>S</td>\n",
              "    </tr>\n",
              "    <tr>\n",
              "      <th>408</th>\n",
              "      <td>1</td>\n",
              "      <td>2</td>\n",
              "      <td>Richards, Master. William Rowe</td>\n",
              "      <td>male</td>\n",
              "      <td>3.00</td>\n",
              "      <td>1</td>\n",
              "      <td>1</td>\n",
              "      <td>29106</td>\n",
              "      <td>18.7500</td>\n",
              "      <td>NaN</td>\n",
              "      <td>S</td>\n",
              "    </tr>\n",
              "    <tr>\n",
              "      <th>434</th>\n",
              "      <td>0</td>\n",
              "      <td>3</td>\n",
              "      <td>Kallio, Mr. Nikolai Erland</td>\n",
              "      <td>male</td>\n",
              "      <td>17.00</td>\n",
              "      <td>0</td>\n",
              "      <td>0</td>\n",
              "      <td>STON/O 2. 3101274</td>\n",
              "      <td>7.1250</td>\n",
              "      <td>NaN</td>\n",
              "      <td>S</td>\n",
              "    </tr>\n",
              "    <tr>\n",
              "      <th>446</th>\n",
              "      <td>1</td>\n",
              "      <td>1</td>\n",
              "      <td>Dodge, Master. Washington</td>\n",
              "      <td>male</td>\n",
              "      <td>4.00</td>\n",
              "      <td>0</td>\n",
              "      <td>2</td>\n",
              "      <td>33638</td>\n",
              "      <td>81.8583</td>\n",
              "      <td>A34</td>\n",
              "      <td>S</td>\n",
              "    </tr>\n",
              "    <tr>\n",
              "      <th>481</th>\n",
              "      <td>0</td>\n",
              "      <td>3</td>\n",
              "      <td>Goodwin, Master. Harold Victor</td>\n",
              "      <td>male</td>\n",
              "      <td>9.00</td>\n",
              "      <td>5</td>\n",
              "      <td>2</td>\n",
              "      <td>CA 2144</td>\n",
              "      <td>46.9000</td>\n",
              "      <td>NaN</td>\n",
              "      <td>S</td>\n",
              "    </tr>\n",
              "    <tr>\n",
              "      <th>490</th>\n",
              "      <td>1</td>\n",
              "      <td>3</td>\n",
              "      <td>Coutts, Master. Eden Leslie \"Neville\"</td>\n",
              "      <td>male</td>\n",
              "      <td>9.00</td>\n",
              "      <td>1</td>\n",
              "      <td>1</td>\n",
              "      <td>C.A. 37671</td>\n",
              "      <td>15.9000</td>\n",
              "      <td>NaN</td>\n",
              "      <td>S</td>\n",
              "    </tr>\n",
              "    <tr>\n",
              "      <th>501</th>\n",
              "      <td>0</td>\n",
              "      <td>3</td>\n",
              "      <td>Calic, Mr. Petar</td>\n",
              "      <td>male</td>\n",
              "      <td>17.00</td>\n",
              "      <td>0</td>\n",
              "      <td>0</td>\n",
              "      <td>315086</td>\n",
              "      <td>8.6625</td>\n",
              "      <td>NaN</td>\n",
              "      <td>S</td>\n",
              "    </tr>\n",
              "    <tr>\n",
              "      <th>533</th>\n",
              "      <td>0</td>\n",
              "      <td>3</td>\n",
              "      <td>Elias, Mr. Joseph Jr</td>\n",
              "      <td>male</td>\n",
              "      <td>17.00</td>\n",
              "      <td>1</td>\n",
              "      <td>1</td>\n",
              "      <td>2690</td>\n",
              "      <td>7.2292</td>\n",
              "      <td>NaN</td>\n",
              "      <td>C</td>\n",
              "    </tr>\n",
              "    <tr>\n",
              "      <th>550</th>\n",
              "      <td>1</td>\n",
              "      <td>2</td>\n",
              "      <td>Davies, Master. John Morgan Jr</td>\n",
              "      <td>male</td>\n",
              "      <td>8.00</td>\n",
              "      <td>1</td>\n",
              "      <td>1</td>\n",
              "      <td>C.A. 33112</td>\n",
              "      <td>36.7500</td>\n",
              "      <td>NaN</td>\n",
              "      <td>S</td>\n",
              "    </tr>\n",
              "    <tr>\n",
              "      <th>551</th>\n",
              "      <td>1</td>\n",
              "      <td>1</td>\n",
              "      <td>Thayer, Mr. John Borland Jr</td>\n",
              "      <td>male</td>\n",
              "      <td>17.00</td>\n",
              "      <td>0</td>\n",
              "      <td>2</td>\n",
              "      <td>17421</td>\n",
              "      <td>110.8833</td>\n",
              "      <td>C70</td>\n",
              "      <td>C</td>\n",
              "    </tr>\n",
              "    <tr>\n",
              "      <th>575</th>\n",
              "      <td>0</td>\n",
              "      <td>3</td>\n",
              "      <td>Rush, Mr. Alfred George John</td>\n",
              "      <td>male</td>\n",
              "      <td>16.00</td>\n",
              "      <td>0</td>\n",
              "      <td>0</td>\n",
              "      <td>A/4. 20589</td>\n",
              "      <td>8.0500</td>\n",
              "      <td>NaN</td>\n",
              "      <td>S</td>\n",
              "    </tr>\n",
              "    <tr>\n",
              "      <th>684</th>\n",
              "      <td>0</td>\n",
              "      <td>3</td>\n",
              "      <td>Goodwin, Mr. Charles Edward</td>\n",
              "      <td>male</td>\n",
              "      <td>14.00</td>\n",
              "      <td>5</td>\n",
              "      <td>2</td>\n",
              "      <td>CA 2144</td>\n",
              "      <td>46.9000</td>\n",
              "      <td>NaN</td>\n",
              "      <td>S</td>\n",
              "    </tr>\n",
              "    <tr>\n",
              "      <th>687</th>\n",
              "      <td>0</td>\n",
              "      <td>3</td>\n",
              "      <td>Panula, Mr. Jaako Arnold</td>\n",
              "      <td>male</td>\n",
              "      <td>14.00</td>\n",
              "      <td>4</td>\n",
              "      <td>1</td>\n",
              "      <td>3101295</td>\n",
              "      <td>39.6875</td>\n",
              "      <td>NaN</td>\n",
              "      <td>S</td>\n",
              "    </tr>\n",
              "    <tr>\n",
              "      <th>722</th>\n",
              "      <td>0</td>\n",
              "      <td>3</td>\n",
              "      <td>Jensen, Mr. Svend Lauritz</td>\n",
              "      <td>male</td>\n",
              "      <td>17.00</td>\n",
              "      <td>1</td>\n",
              "      <td>0</td>\n",
              "      <td>350048</td>\n",
              "      <td>7.0542</td>\n",
              "      <td>NaN</td>\n",
              "      <td>S</td>\n",
              "    </tr>\n",
              "    <tr>\n",
              "      <th>732</th>\n",
              "      <td>0</td>\n",
              "      <td>3</td>\n",
              "      <td>Hassan, Mr. Houssein G N</td>\n",
              "      <td>male</td>\n",
              "      <td>11.00</td>\n",
              "      <td>0</td>\n",
              "      <td>0</td>\n",
              "      <td>2699</td>\n",
              "      <td>18.7875</td>\n",
              "      <td>NaN</td>\n",
              "      <td>C</td>\n",
              "    </tr>\n",
              "    <tr>\n",
              "      <th>747</th>\n",
              "      <td>0</td>\n",
              "      <td>3</td>\n",
              "      <td>Abbott, Mr. Rossmore Edward</td>\n",
              "      <td>male</td>\n",
              "      <td>16.00</td>\n",
              "      <td>1</td>\n",
              "      <td>1</td>\n",
              "      <td>C.A. 2673</td>\n",
              "      <td>20.2500</td>\n",
              "      <td>NaN</td>\n",
              "      <td>S</td>\n",
              "    </tr>\n",
              "    <tr>\n",
              "      <th>752</th>\n",
              "      <td>1</td>\n",
              "      <td>3</td>\n",
              "      <td>Moor, Master. Meier</td>\n",
              "      <td>male</td>\n",
              "      <td>6.00</td>\n",
              "      <td>0</td>\n",
              "      <td>1</td>\n",
              "      <td>392096</td>\n",
              "      <td>12.4750</td>\n",
              "      <td>E121</td>\n",
              "      <td>S</td>\n",
              "    </tr>\n",
              "    <tr>\n",
              "      <th>756</th>\n",
              "      <td>1</td>\n",
              "      <td>2</td>\n",
              "      <td>Hamalainen, Master. Viljo</td>\n",
              "      <td>male</td>\n",
              "      <td>0.67</td>\n",
              "      <td>1</td>\n",
              "      <td>1</td>\n",
              "      <td>250649</td>\n",
              "      <td>14.5000</td>\n",
              "      <td>NaN</td>\n",
              "      <td>S</td>\n",
              "    </tr>\n",
              "    <tr>\n",
              "      <th>765</th>\n",
              "      <td>0</td>\n",
              "      <td>3</td>\n",
              "      <td>Eklund, Mr. Hans Linus</td>\n",
              "      <td>male</td>\n",
              "      <td>16.00</td>\n",
              "      <td>0</td>\n",
              "      <td>0</td>\n",
              "      <td>347074</td>\n",
              "      <td>7.7750</td>\n",
              "      <td>NaN</td>\n",
              "      <td>S</td>\n",
              "    </tr>\n",
              "    <tr>\n",
              "      <th>788</th>\n",
              "      <td>0</td>\n",
              "      <td>3</td>\n",
              "      <td>Rice, Master. George Hugh</td>\n",
              "      <td>male</td>\n",
              "      <td>8.00</td>\n",
              "      <td>4</td>\n",
              "      <td>1</td>\n",
              "      <td>382652</td>\n",
              "      <td>29.1250</td>\n",
              "      <td>NaN</td>\n",
              "      <td>Q</td>\n",
              "    </tr>\n",
              "    <tr>\n",
              "      <th>789</th>\n",
              "      <td>1</td>\n",
              "      <td>3</td>\n",
              "      <td>Dean, Master. Bertram Vere</td>\n",
              "      <td>male</td>\n",
              "      <td>1.00</td>\n",
              "      <td>1</td>\n",
              "      <td>2</td>\n",
              "      <td>C.A. 2315</td>\n",
              "      <td>20.5750</td>\n",
              "      <td>NaN</td>\n",
              "      <td>S</td>\n",
              "    </tr>\n",
              "    <tr>\n",
              "      <th>792</th>\n",
              "      <td>0</td>\n",
              "      <td>2</td>\n",
              "      <td>Gaskell, Mr. Alfred</td>\n",
              "      <td>male</td>\n",
              "      <td>16.00</td>\n",
              "      <td>0</td>\n",
              "      <td>0</td>\n",
              "      <td>239865</td>\n",
              "      <td>26.0000</td>\n",
              "      <td>NaN</td>\n",
              "      <td>S</td>\n",
              "    </tr>\n",
              "    <tr>\n",
              "      <th>803</th>\n",
              "      <td>1</td>\n",
              "      <td>1</td>\n",
              "      <td>Carter, Master. William Thornton II</td>\n",
              "      <td>male</td>\n",
              "      <td>11.00</td>\n",
              "      <td>1</td>\n",
              "      <td>2</td>\n",
              "      <td>113760</td>\n",
              "      <td>120.0000</td>\n",
              "      <td>B96 B98</td>\n",
              "      <td>S</td>\n",
              "    </tr>\n",
              "    <tr>\n",
              "      <th>804</th>\n",
              "      <td>1</td>\n",
              "      <td>3</td>\n",
              "      <td>Thomas, Master. Assad Alexander</td>\n",
              "      <td>male</td>\n",
              "      <td>0.42</td>\n",
              "      <td>0</td>\n",
              "      <td>1</td>\n",
              "      <td>2625</td>\n",
              "      <td>8.5167</td>\n",
              "      <td>NaN</td>\n",
              "      <td>C</td>\n",
              "    </tr>\n",
              "    <tr>\n",
              "      <th>820</th>\n",
              "      <td>0</td>\n",
              "      <td>3</td>\n",
              "      <td>Skoog, Master. Karl Thorsten</td>\n",
              "      <td>male</td>\n",
              "      <td>10.00</td>\n",
              "      <td>3</td>\n",
              "      <td>2</td>\n",
              "      <td>347088</td>\n",
              "      <td>27.9000</td>\n",
              "      <td>NaN</td>\n",
              "      <td>S</td>\n",
              "    </tr>\n",
              "    <tr>\n",
              "      <th>825</th>\n",
              "      <td>0</td>\n",
              "      <td>3</td>\n",
              "      <td>Panula, Master. Urho Abraham</td>\n",
              "      <td>male</td>\n",
              "      <td>2.00</td>\n",
              "      <td>4</td>\n",
              "      <td>1</td>\n",
              "      <td>3101295</td>\n",
              "      <td>39.6875</td>\n",
              "      <td>NaN</td>\n",
              "      <td>S</td>\n",
              "    </tr>\n",
              "    <tr>\n",
              "      <th>828</th>\n",
              "      <td>1</td>\n",
              "      <td>2</td>\n",
              "      <td>Mallet, Master. Andre</td>\n",
              "      <td>male</td>\n",
              "      <td>1.00</td>\n",
              "      <td>0</td>\n",
              "      <td>2</td>\n",
              "      <td>S.C./PARIS 2079</td>\n",
              "      <td>37.0042</td>\n",
              "      <td>NaN</td>\n",
              "      <td>C</td>\n",
              "    </tr>\n",
              "    <tr>\n",
              "      <th>832</th>\n",
              "      <td>1</td>\n",
              "      <td>2</td>\n",
              "      <td>Richards, Master. George Sibley</td>\n",
              "      <td>male</td>\n",
              "      <td>0.83</td>\n",
              "      <td>1</td>\n",
              "      <td>1</td>\n",
              "      <td>29106</td>\n",
              "      <td>18.7500</td>\n",
              "      <td>NaN</td>\n",
              "      <td>S</td>\n",
              "    </tr>\n",
              "    <tr>\n",
              "      <th>842</th>\n",
              "      <td>0</td>\n",
              "      <td>2</td>\n",
              "      <td>Mudd, Mr. Thomas Charles</td>\n",
              "      <td>male</td>\n",
              "      <td>16.00</td>\n",
              "      <td>0</td>\n",
              "      <td>0</td>\n",
              "      <td>S.O./P.P. 3</td>\n",
              "      <td>10.5000</td>\n",
              "      <td>NaN</td>\n",
              "      <td>S</td>\n",
              "    </tr>\n",
              "    <tr>\n",
              "      <th>845</th>\n",
              "      <td>0</td>\n",
              "      <td>3</td>\n",
              "      <td>Culumovic, Mr. Jeso</td>\n",
              "      <td>male</td>\n",
              "      <td>17.00</td>\n",
              "      <td>0</td>\n",
              "      <td>0</td>\n",
              "      <td>315090</td>\n",
              "      <td>8.6625</td>\n",
              "      <td>NaN</td>\n",
              "      <td>S</td>\n",
              "    </tr>\n",
              "    <tr>\n",
              "      <th>851</th>\n",
              "      <td>0</td>\n",
              "      <td>3</td>\n",
              "      <td>Andersson, Master. Sigvard Harald Elias</td>\n",
              "      <td>male</td>\n",
              "      <td>4.00</td>\n",
              "      <td>4</td>\n",
              "      <td>2</td>\n",
              "      <td>347082</td>\n",
              "      <td>31.2750</td>\n",
              "      <td>NaN</td>\n",
              "      <td>S</td>\n",
              "    </tr>\n",
              "    <tr>\n",
              "      <th>870</th>\n",
              "      <td>1</td>\n",
              "      <td>3</td>\n",
              "      <td>Johnson, Master. Harold Theodor</td>\n",
              "      <td>male</td>\n",
              "      <td>4.00</td>\n",
              "      <td>1</td>\n",
              "      <td>1</td>\n",
              "      <td>347742</td>\n",
              "      <td>11.1333</td>\n",
              "      <td>NaN</td>\n",
              "      <td>S</td>\n",
              "    </tr>\n",
              "  </tbody>\n",
              "</table>\n",
              "</div>"
            ],
            "text/plain": [
              "             Survived  Pclass  ...    Cabin Embarked\n",
              "PassengerId                    ...                  \n",
              "8                   0       3  ...      NaN        S\n",
              "17                  0       3  ...      NaN        Q\n",
              "51                  0       3  ...      NaN        S\n",
              "60                  0       3  ...      NaN        S\n",
              "64                  0       3  ...      NaN        S\n",
              "79                  1       2  ...      NaN        S\n",
              "87                  0       3  ...      NaN        S\n",
              "126                 1       3  ...      NaN        C\n",
              "139                 0       3  ...      NaN        S\n",
              "164                 0       3  ...      NaN        S\n",
              "165                 0       3  ...      NaN        S\n",
              "166                 1       3  ...      NaN        S\n",
              "172                 0       3  ...      NaN        Q\n",
              "183                 0       3  ...      NaN        S\n",
              "184                 1       2  ...       F4        S\n",
              "194                 1       2  ...       F2        S\n",
              "221                 1       3  ...      NaN        S\n",
              "262                 1       3  ...      NaN        S\n",
              "267                 0       3  ...      NaN        S\n",
              "279                 0       3  ...      NaN        Q\n",
              "283                 0       3  ...      NaN        S\n",
              "306                 1       1  ...  C22 C26        S\n",
              "334                 0       3  ...      NaN        S\n",
              "341                 1       2  ...       F2        S\n",
              "349                 1       3  ...      NaN        S\n",
              "353                 0       3  ...      NaN        C\n",
              "387                 0       3  ...      NaN        S\n",
              "408                 1       2  ...      NaN        S\n",
              "434                 0       3  ...      NaN        S\n",
              "446                 1       1  ...      A34        S\n",
              "481                 0       3  ...      NaN        S\n",
              "490                 1       3  ...      NaN        S\n",
              "501                 0       3  ...      NaN        S\n",
              "533                 0       3  ...      NaN        C\n",
              "550                 1       2  ...      NaN        S\n",
              "551                 1       1  ...      C70        C\n",
              "575                 0       3  ...      NaN        S\n",
              "684                 0       3  ...      NaN        S\n",
              "687                 0       3  ...      NaN        S\n",
              "722                 0       3  ...      NaN        S\n",
              "732                 0       3  ...      NaN        C\n",
              "747                 0       3  ...      NaN        S\n",
              "752                 1       3  ...     E121        S\n",
              "756                 1       2  ...      NaN        S\n",
              "765                 0       3  ...      NaN        S\n",
              "788                 0       3  ...      NaN        Q\n",
              "789                 1       3  ...      NaN        S\n",
              "792                 0       2  ...      NaN        S\n",
              "803                 1       1  ...  B96 B98        S\n",
              "804                 1       3  ...      NaN        C\n",
              "820                 0       3  ...      NaN        S\n",
              "825                 0       3  ...      NaN        S\n",
              "828                 1       2  ...      NaN        C\n",
              "832                 1       2  ...      NaN        S\n",
              "842                 0       2  ...      NaN        S\n",
              "845                 0       3  ...      NaN        S\n",
              "851                 0       3  ...      NaN        S\n",
              "870                 1       3  ...      NaN        S\n",
              "\n",
              "[58 rows x 11 columns]"
            ]
          },
          "metadata": {},
          "execution_count": 39
        }
      ]
    },
    {
      "cell_type": "markdown",
      "metadata": {
        "id": "ln3hUck0JXVx"
      },
      "source": [
        "### Your turn:\n"
      ]
    },
    {
      "cell_type": "code",
      "metadata": {
        "id": "r0surSILJXVy",
        "colab": {
          "base_uri": "https://localhost:8080/"
        },
        "outputId": "d44c8cf4-f519-4375-ccc1-6e670b40a004"
      },
      "source": [
        "# select passengers number 13 and 666 - did they survive?\n",
        "if data.iloc[12][\"Survived\"] == 0:\n",
        "  print(\"Pass 13 is DEAD\")\n",
        "else:\n",
        "  print(\"Pass 13 is ALIVE\")\n",
        "if data.iloc[665][\"Survived\"] == 0:\n",
        "  print(\"Pass 666 is DEAD\")\n",
        "else:\n",
        "  print(\"Pass 13 is ALIVE\")"
      ],
      "execution_count": null,
      "outputs": [
        {
          "output_type": "stream",
          "name": "stdout",
          "text": [
            "Pass 13 is DEAD\n",
            "Pass 666 is DEAD\n"
          ]
        }
      ]
    },
    {
      "cell_type": "code",
      "metadata": {
        "id": "WfL_YYOVJXV3",
        "colab": {
          "base_uri": "https://localhost:8080/"
        },
        "outputId": "cf57d343-ffa7-4c66-81ce-669eb1aeaed0"
      },
      "source": [
        "# compute the overall survival rate (what fraction of passengers survived the shipwreck)\n",
        "surv = data[\"Survived\"]\n",
        "print(np.mean(surv))"
      ],
      "execution_count": null,
      "outputs": [
        {
          "output_type": "stream",
          "name": "stdout",
          "text": [
            "0.3838383838383838\n"
          ]
        }
      ]
    },
    {
      "cell_type": "markdown",
      "metadata": {
        "id": "NaDF00ADJXV7"
      },
      "source": [
        "```\n",
        "\n",
        "```\n",
        "\n",
        "```\n",
        "\n",
        "```\n",
        "\n",
        "```\n",
        "\n",
        "```\n",
        "\n",
        "```\n",
        "\n",
        "```\n",
        "\n",
        "```\n",
        "\n",
        "```\n",
        "\n",
        "```\n",
        "\n",
        "```\n",
        "\n",
        "```\n",
        "\n",
        "```\n",
        "\n"
      ]
    },
    {
      "cell_type": "markdown",
      "metadata": {
        "id": "dZAezJgDJXV8"
      },
      "source": [
        "Pandas also has some basic data analysis tools. For one, you can quickly display statistical aggregates for each column using `.describe()`"
      ]
    },
    {
      "cell_type": "code",
      "metadata": {
        "id": "yHtn-GlbJXV8",
        "colab": {
          "base_uri": "https://localhost:8080/",
          "height": 297
        },
        "outputId": "f78b56d1-78f2-4bd1-b82c-05c21f455a77"
      },
      "source": [
        "data.describe()"
      ],
      "execution_count": null,
      "outputs": [
        {
          "output_type": "execute_result",
          "data": {
            "text/html": [
              "<div>\n",
              "<style scoped>\n",
              "    .dataframe tbody tr th:only-of-type {\n",
              "        vertical-align: middle;\n",
              "    }\n",
              "\n",
              "    .dataframe tbody tr th {\n",
              "        vertical-align: top;\n",
              "    }\n",
              "\n",
              "    .dataframe thead th {\n",
              "        text-align: right;\n",
              "    }\n",
              "</style>\n",
              "<table border=\"1\" class=\"dataframe\">\n",
              "  <thead>\n",
              "    <tr style=\"text-align: right;\">\n",
              "      <th></th>\n",
              "      <th>Survived</th>\n",
              "      <th>Pclass</th>\n",
              "      <th>Age</th>\n",
              "      <th>SibSp</th>\n",
              "      <th>Parch</th>\n",
              "      <th>Fare</th>\n",
              "    </tr>\n",
              "  </thead>\n",
              "  <tbody>\n",
              "    <tr>\n",
              "      <th>count</th>\n",
              "      <td>891.000000</td>\n",
              "      <td>891.000000</td>\n",
              "      <td>714.000000</td>\n",
              "      <td>891.000000</td>\n",
              "      <td>891.000000</td>\n",
              "      <td>891.000000</td>\n",
              "    </tr>\n",
              "    <tr>\n",
              "      <th>mean</th>\n",
              "      <td>0.383838</td>\n",
              "      <td>2.308642</td>\n",
              "      <td>29.699118</td>\n",
              "      <td>0.523008</td>\n",
              "      <td>0.381594</td>\n",
              "      <td>32.204208</td>\n",
              "    </tr>\n",
              "    <tr>\n",
              "      <th>std</th>\n",
              "      <td>0.486592</td>\n",
              "      <td>0.836071</td>\n",
              "      <td>14.526497</td>\n",
              "      <td>1.102743</td>\n",
              "      <td>0.806057</td>\n",
              "      <td>49.693429</td>\n",
              "    </tr>\n",
              "    <tr>\n",
              "      <th>min</th>\n",
              "      <td>0.000000</td>\n",
              "      <td>1.000000</td>\n",
              "      <td>0.420000</td>\n",
              "      <td>0.000000</td>\n",
              "      <td>0.000000</td>\n",
              "      <td>0.000000</td>\n",
              "    </tr>\n",
              "    <tr>\n",
              "      <th>25%</th>\n",
              "      <td>0.000000</td>\n",
              "      <td>2.000000</td>\n",
              "      <td>20.125000</td>\n",
              "      <td>0.000000</td>\n",
              "      <td>0.000000</td>\n",
              "      <td>7.910400</td>\n",
              "    </tr>\n",
              "    <tr>\n",
              "      <th>50%</th>\n",
              "      <td>0.000000</td>\n",
              "      <td>3.000000</td>\n",
              "      <td>28.000000</td>\n",
              "      <td>0.000000</td>\n",
              "      <td>0.000000</td>\n",
              "      <td>14.454200</td>\n",
              "    </tr>\n",
              "    <tr>\n",
              "      <th>75%</th>\n",
              "      <td>1.000000</td>\n",
              "      <td>3.000000</td>\n",
              "      <td>38.000000</td>\n",
              "      <td>1.000000</td>\n",
              "      <td>0.000000</td>\n",
              "      <td>31.000000</td>\n",
              "    </tr>\n",
              "    <tr>\n",
              "      <th>max</th>\n",
              "      <td>1.000000</td>\n",
              "      <td>3.000000</td>\n",
              "      <td>80.000000</td>\n",
              "      <td>8.000000</td>\n",
              "      <td>6.000000</td>\n",
              "      <td>512.329200</td>\n",
              "    </tr>\n",
              "  </tbody>\n",
              "</table>\n",
              "</div>"
            ],
            "text/plain": [
              "         Survived      Pclass         Age       SibSp       Parch        Fare\n",
              "count  891.000000  891.000000  714.000000  891.000000  891.000000  891.000000\n",
              "mean     0.383838    2.308642   29.699118    0.523008    0.381594   32.204208\n",
              "std      0.486592    0.836071   14.526497    1.102743    0.806057   49.693429\n",
              "min      0.000000    1.000000    0.420000    0.000000    0.000000    0.000000\n",
              "25%      0.000000    2.000000   20.125000    0.000000    0.000000    7.910400\n",
              "50%      0.000000    3.000000   28.000000    0.000000    0.000000   14.454200\n",
              "75%      1.000000    3.000000   38.000000    1.000000    0.000000   31.000000\n",
              "max      1.000000    3.000000   80.000000    8.000000    6.000000  512.329200"
            ]
          },
          "metadata": {},
          "execution_count": 42
        }
      ]
    },
    {
      "cell_type": "markdown",
      "metadata": {
        "id": "hp-OG6bOJXWA"
      },
      "source": [
        "Some columns contain __NaN__ values - this means that there is no data there. For example, passenger `#5` has unknown age. To simplify the future data analysis, we'll replace NaN values by using pandas `fillna` function.\n",
        "\n",
        "_Note: we do this so easily because it's a tutorial. In general, you think twice before you modify data like this._"
      ]
    },
    {
      "cell_type": "code",
      "metadata": {
        "id": "h62nzR9vJXWB",
        "colab": {
          "base_uri": "https://localhost:8080/"
        },
        "outputId": "94674534-2485-4715-a31d-a6e4c0fd2f88"
      },
      "source": [
        "data.iloc[5]"
      ],
      "execution_count": null,
      "outputs": [
        {
          "output_type": "execute_result",
          "data": {
            "text/plain": [
              "Survived                   0\n",
              "Pclass                     3\n",
              "Name        Moran, Mr. James\n",
              "Sex                     male\n",
              "Age                      NaN\n",
              "SibSp                      0\n",
              "Parch                      0\n",
              "Ticket                330877\n",
              "Fare                  8.4583\n",
              "Cabin                    NaN\n",
              "Embarked                   Q\n",
              "Name: 6, dtype: object"
            ]
          },
          "metadata": {},
          "execution_count": 43
        }
      ]
    },
    {
      "cell_type": "code",
      "metadata": {
        "id": "EHEegWTOJXWK"
      },
      "source": [
        "data['Age'] = data['Age'].fillna(value=data['Age'].mean())\n",
        "data['Fare'] = data['Fare'].fillna(value=data['Fare'].mean())"
      ],
      "execution_count": null,
      "outputs": []
    },
    {
      "cell_type": "code",
      "metadata": {
        "id": "jSIS7m9RJXWO",
        "colab": {
          "base_uri": "https://localhost:8080/"
        },
        "outputId": "64fc5bf6-e0e2-4545-f699-5efedeeb0876"
      },
      "source": [
        "data.iloc[5]"
      ],
      "execution_count": null,
      "outputs": [
        {
          "output_type": "execute_result",
          "data": {
            "text/plain": [
              "Survived                   0\n",
              "Pclass                     3\n",
              "Name        Moran, Mr. James\n",
              "Sex                     male\n",
              "Age                  29.6991\n",
              "SibSp                      0\n",
              "Parch                      0\n",
              "Ticket                330877\n",
              "Fare                  8.4583\n",
              "Cabin                    NaN\n",
              "Embarked                   Q\n",
              "Name: 6, dtype: object"
            ]
          },
          "metadata": {},
          "execution_count": 45
        }
      ]
    },
    {
      "cell_type": "markdown",
      "metadata": {
        "id": "d_oQnE9JhlWW"
      },
      "source": [
        "### Pandas + numpy"
      ]
    },
    {
      "cell_type": "markdown",
      "metadata": {
        "id": "Wk8fA8HBJXWs"
      },
      "source": [
        "The important part: as pandas uses numpy under the hood, most of numpy functionality works with dataframes, as you can get their numpy representation with `.values` (most numpy functions will even work on pure pandas objects):"
      ]
    },
    {
      "cell_type": "code",
      "metadata": {
        "id": "uE53osRgJXWs",
        "colab": {
          "base_uri": "https://localhost:8080/"
        },
        "outputId": "081337cf-e8a0-4988-c7fb-d1e60a750bab"
      },
      "source": [
        "# calling np.max on a pure pandas column:\n",
        "print(\"Max ticket price: \", np.max(data[\"Fare\"]))\n",
        "\n",
        "# calling np.argmax on a numpy representation of a pandas column\n",
        "# to get its positional index:\n",
        "print(\"\\nThe guy who paid the most:\\n\",\n",
        "      data.iloc[\n",
        "          np.argmax(data[\"Fare\"].values)\n",
        "      ])"
      ],
      "execution_count": null,
      "outputs": [
        {
          "output_type": "stream",
          "name": "stdout",
          "text": [
            "Max ticket price:  512.3292\n",
            "\n",
            "The guy who paid the most:\n",
            " Survived                   1\n",
            "Pclass                     1\n",
            "Name        Ward, Miss. Anna\n",
            "Sex                   female\n",
            "Age                       35\n",
            "SibSp                      0\n",
            "Parch                      0\n",
            "Ticket              PC 17755\n",
            "Fare                 512.329\n",
            "Cabin                    NaN\n",
            "Embarked                   C\n",
            "Name: 259, dtype: object\n"
          ]
        }
      ]
    },
    {
      "cell_type": "code",
      "metadata": {
        "id": "X5l90RFPN6SL",
        "colab": {
          "base_uri": "https://localhost:8080/"
        },
        "outputId": "a756121d-8ccc-4985-a0bd-e5ecfe6cc74d"
      },
      "source": [
        "# numpy works only with positional index:\n",
        "print(data['Fare'].values.argmax())\n",
        "#     ^^^^^^^^^^^^^^^^^^^\n",
        "#     this part returns a numpy array, argmax of which we are calculating\n",
        "\n",
        "\n",
        "# in pandas you can ask for the index (i.e. value of the index column)\n",
        "# of the maximal element like this:\n",
        "print(data[\"Fare\"].idxmax())"
      ],
      "execution_count": null,
      "outputs": [
        {
          "output_type": "stream",
          "name": "stdout",
          "text": [
            "258\n",
            "259\n"
          ]
        }
      ]
    },
    {
      "cell_type": "markdown",
      "metadata": {
        "id": "T_xqJK6UJXW6"
      },
      "source": [
        "### Your turn\n",
        "\n",
        "Use numpy and pandas to answer a few questions about data"
      ]
    },
    {
      "cell_type": "code",
      "metadata": {
        "id": "p7O68NpyJXWw",
        "colab": {
          "base_uri": "https://localhost:8080/"
        },
        "outputId": "e4c73849-8840-4b10-e012-d13facff5e7a"
      },
      "source": [
        "# your code: compute mean passenger age and find the oldest guy on the ship\n",
        "age = data[\"Age\"]\n",
        "print(np.mean(age))\n",
        "print(np.max(age))"
      ],
      "execution_count": null,
      "outputs": [
        {
          "output_type": "stream",
          "name": "stdout",
          "text": [
            "29.699117647058763\n",
            "80.0\n"
          ]
        }
      ]
    },
    {
      "cell_type": "code",
      "metadata": {
        "id": "h6eXINxLJXW6",
        "colab": {
          "base_uri": "https://localhost:8080/"
        },
        "outputId": "d821e2de-7ac8-4511-c31c-4ae0c5dedb48"
      },
      "source": [
        "# who on average paid more for their ticket, men or women?\n",
        "\n",
        "\n",
        "mean_fare_men = np.mean(data.loc[data['Sex'] == 'male'][\"Fare\"])\n",
        "mean_fare_women = np.mean(data.loc[data['Sex'] == 'female'][\"Fare\"])\n",
        "\n",
        "print(mean_fare_men, mean_fare_women)"
      ],
      "execution_count": null,
      "outputs": [
        {
          "output_type": "stream",
          "name": "stdout",
          "text": [
            "25.523893414211418 44.47981783439487\n"
          ]
        }
      ]
    },
    {
      "cell_type": "code",
      "metadata": {
        "id": "EyDEaifrJXW8",
        "colab": {
          "base_uri": "https://localhost:8080/"
        },
        "outputId": "1d6eeef0-6488-4ccd-946b-93cb4d9f3d94"
      },
      "source": [
        "# who is more likely to survive: a child (<18 yo) or an adult?\n",
        "\n",
        "child_survival_rate = np.mean(data.loc[data['Age'] < 18][\"Survived\"])\n",
        "adult_survival_rate = np.mean(data.loc[data['Age'] >= 18][\"Survived\"])\n",
        "\n",
        "print(child_survival_rate, adult_survival_rate)"
      ],
      "execution_count": null,
      "outputs": [
        {
          "output_type": "stream",
          "name": "stdout",
          "text": [
            "0.5398230088495575 0.36118251928020567\n"
          ]
        }
      ]
    },
    {
      "cell_type": "markdown",
      "metadata": {
        "id": "ASsnUCRMJXWS"
      },
      "source": [
        "More pandas: \n",
        "* Official [tutorials](https://pandas.pydata.org/pandas-docs/stable/tutorials.html), including this [10 minutes to pandas](https://pandas.pydata.org/pandas-docs/stable/10min.html#min)\n",
        "* Bunch of cheat sheets awaits just one google query away from you (e.g. [basics](http://datacamp-community-prod.s3.amazonaws.com/dbed353d-2757-4617-8206-8767ab379ab3), [combining datasets](https://pbs.twimg.com/media/C65MaMpVwAA3v0A.jpg) and so on). "
      ]
    },
    {
      "cell_type": "markdown",
      "metadata": {
        "id": "yt0lgtQox2e1"
      },
      "source": [
        "## Part IV: plots and matplotlib"
      ]
    },
    {
      "cell_type": "markdown",
      "metadata": {
        "id": "Odx24QWTJXW-"
      },
      "source": [
        "Using python to visualize the data is covered by yet another library: `matplotlib`.\n",
        "\n",
        "Just like python itself, matplotlib has an awesome tendency of keeping simple things simple while still allowing you to write complicated stuff with convenience (e.g. super-detailed plots or custom animations)."
      ]
    },
    {
      "cell_type": "code",
      "metadata": {
        "id": "7QxD0DoLJXW-",
        "scrolled": true,
        "colab": {
          "base_uri": "https://localhost:8080/",
          "height": 265
        },
        "outputId": "f6baebe7-c153-45e0-8822-d0001f82650a"
      },
      "source": [
        "import matplotlib.pyplot as plt\n",
        "%matplotlib inline  \n",
        "# ^-- this \"magic\" selects specific matplotlib backend suitable for\n",
        "# jupyter notebooks. For more info see:\n",
        "# https://ipython.readthedocs.io/en/stable/interactive/plotting.html#id1\n",
        "# (actually it's the default in google colab)\n",
        "\n",
        "# line plot\n",
        "plt.plot([0,1,2,3,4,5],[0,1,4,9,16,25]);"
      ],
      "execution_count": null,
      "outputs": [
        {
          "output_type": "display_data",
          "data": {
            "image/png": "[encoded data removed]",
            "text/plain": [
              "<Figure size 432x288 with 1 Axes>"
            ]
          },
          "metadata": {
            "needs_background": "light"
          }
        }
      ]
    },
    {
      "cell_type": "code",
      "metadata": {
        "id": "huybuiQkJXXB",
        "colab": {
          "base_uri": "https://localhost:8080/",
          "height": 564
        },
        "outputId": "72c1f432-0898-4f5d-d12d-0e5fb0afc789"
      },
      "source": [
        "#scatter-plot\n",
        "x = np.arange(5)\n",
        "print(\"x =\", x)\n",
        "print(\"x**2 =\", x**2)\n",
        "print(\"plotting x**2 vs x:\")\n",
        "plt.scatter(x, x**2)\n",
        "plt.show()  # show the first plot to begin drawing the next one\n",
        "\n",
        "plt.plot(x, x**2);"
      ],
      "execution_count": null,
      "outputs": [
        {
          "output_type": "stream",
          "name": "stdout",
          "text": [
            "x = [0 1 2 3 4]\n",
            "x**2 = [ 0  1  4  9 16]\n",
            "plotting x**2 vs x:\n"
          ]
        },
        {
          "output_type": "display_data",
          "data": {
            "image/png": "[encoded data removed]",
            "text/plain": [
              "<Figure size 432x288 with 1 Axes>"
            ]
          },
          "metadata": {
            "needs_background": "light"
          }
        },
        {
          "output_type": "display_data",
          "data": {
            "image/png": "[encoded data removed]",
            "text/plain": [
              "<Figure size 432x288 with 1 Axes>"
            ]
          },
          "metadata": {
            "needs_background": "light"
          }
        }
      ]
    },
    {
      "cell_type": "code",
      "metadata": {
        "id": "Q4Bj57P_JXXF",
        "colab": {
          "base_uri": "https://localhost:8080/",
          "height": 295
        },
        "outputId": "897e4b1b-9a19-4abf-f50f-c1030843d8df"
      },
      "source": [
        "# draw a scatter plot with custom markers and colors\n",
        "plt.scatter([1, 1, 2, 3, 4, 4.5], [3, 2, 2, 5, 15, 24],\n",
        "            c=[\"red\", \"blue\", \"orange\", \"green\", \"cyan\", \"gray\"],\n",
        "            marker=\"x\")\n",
        "\n",
        "# without plt.show(), several plots will be drawn on top of one another\n",
        "plt.plot([0, 1, 2, 3, 4, 5], [0, 1, 4, 9, 16, 25], c=\"black\")\n",
        "\n",
        "# adding more sugar\n",
        "plt.title(\"Conspiracy theory proven!!!\")\n",
        "plt.xlabel(\"Per capita alcohol consumption\")\n",
        "plt.ylabel(\"# Layers in state of the art image classifier\");\n",
        "\n",
        "# fun with correlations: http://bit.ly/1FcNnWF"
      ],
      "execution_count": null,
      "outputs": [
        {
          "output_type": "display_data",
          "data": {
            "image/png": "[encoded data removed]",
            "text/plain": [
              "<Figure size 432x288 with 1 Axes>"
            ]
          },
          "metadata": {
            "needs_background": "light"
          }
        }
      ]
    },
    {
      "cell_type": "code",
      "metadata": {
        "id": "fz5WDA4YJXXI",
        "colab": {
          "base_uri": "https://localhost:8080/",
          "height": 513
        },
        "outputId": "93abb555-6a70-4598-f696-f787b9550e78"
      },
      "source": [
        "# histogram - showing data density\n",
        "plt.hist([0,1,1,1,2,2,3,3,3,3,3,4,4,5,5,5,6,7,7,8,9,10])\n",
        "plt.show()\n",
        "\n",
        "plt.hist([0,1,1,1,2,2,3,3,3,3,3,4,4,5,5,5,6,7,7,8,9,10], bins=5);"
      ],
      "execution_count": null,
      "outputs": [
        {
          "output_type": "display_data",
          "data": {
            "image/png": "[encoded data removed]",
            "text/plain": [
              "<Figure size 432x288 with 1 Axes>"
            ]
          },
          "metadata": {
            "needs_background": "light"
          }
        },
        {
          "output_type": "display_data",
          "data": {
            "image/png": "[encoded data removed]",
            "text/plain": [
              "<Figure size 432x288 with 1 Axes>"
            ]
          },
          "metadata": {
            "needs_background": "light"
          }
        }
      ]
    },
    {
      "cell_type": "code",
      "metadata": {
        "id": "_5X-UQAKRefF",
        "colab": {
          "base_uri": "https://localhost:8080/",
          "height": 265
        },
        "outputId": "c602f7dd-d308-46a0-a188-acc1465e061e"
      },
      "source": [
        "# you can also specify bin edges instead of just number of bins:\n",
        "\n",
        "x = np.random.normal(size=10000)\n",
        "bins = np.linspace(-3, 3, 101)\n",
        "plt.hist(x, bins=bins);"
      ],
      "execution_count": null,
      "outputs": [
        {
          "output_type": "display_data",
          "data": {
            "image/png": "[encoded data removed]",
            "text/plain": [
              "<Figure size 432x288 with 1 Axes>"
            ]
          },
          "metadata": {
            "needs_background": "light"
          }
        }
      ]
    },
    {
      "cell_type": "code",
      "metadata": {
        "id": "XmapamrGJXXM",
        "colab": {
          "base_uri": "https://localhost:8080/",
          "height": 761
        },
        "outputId": "776d5057-0fd7-40e1-c725-b6d28bd30777"
      },
      "source": [
        "# plot a histogram of age and a histogram of ticket fares on separate plots\n",
        "\n",
        "plt.hist(data.Age, bins=100)\n",
        "plt.show()\n",
        "plt.hist(data.Fare, bins = 100)\n",
        "plt.show()\n",
        "from matplotlib.colors import LogNorm\n",
        "plt.hist2d(data.Age,data.Fare, density = 'true', bins=[100,100], norm=LogNorm())\n",
        "plt.show()\n",
        "#bonus: use context help to see if there is a way to draw a 2D histogram of age vs fare."
      ],
      "execution_count": null,
      "outputs": [
        {
          "output_type": "display_data",
          "data": {
            "image/png": "[encoded data removed]",
            "text/plain": [
              "<Figure size 432x288 with 1 Axes>"
            ]
          },
          "metadata": {
            "needs_background": "light"
          }
        },
        {
          "output_type": "display_data",
          "data": {
            "image/png": "[encoded data removed]",
            "text/plain": [
              "<Figure size 432x288 with 1 Axes>"
            ]
          },
          "metadata": {
            "needs_background": "light"
          }
        },
        {
          "output_type": "display_data",
          "data": {
            "image/png": "[encoded data removed]",
            "text/plain": [
              "<Figure size 432x288 with 1 Axes>"
            ]
          },
          "metadata": {
            "needs_background": "light"
          }
        }
      ]
    },
    {
      "cell_type": "code",
      "metadata": {
        "id": "QIzNFjffJXXP"
      },
      "source": [
        "# make a scatter plot of passenger age vs ticket fare\n",
        "\n",
        "<YOUR CODE>\n",
        "\n",
        "# kudos if you add separate colors for men and women"
      ],
      "execution_count": null,
      "outputs": []
    },
    {
      "cell_type": "markdown",
      "metadata": {
        "id": "bHDcDWFKJXXS"
      },
      "source": [
        "* Extended [tutorial](https://matplotlib.org/2.0.2/users/pyplot_tutorial.html)\n",
        "* Other libraries for more sophisticated stuff: [Seaborn](https://seaborn.pydata.org/), [Plotly](https://plot.ly/python/), and [Bokeh](https://bokeh.pydata.org/en/latest/)"
      ]
    },
    {
      "cell_type": "markdown",
      "metadata": {
        "id": "ARBewmPBye4-"
      },
      "source": [
        "## Part V (final): machine learning with scikit-learn"
      ]
    },
    {
      "cell_type": "markdown",
      "metadata": {
        "id": "Hpc3yTBjJXXT"
      },
      "source": [
        "<img src='https://imgs.xkcd.com/comics/machine_learning.png' width=320px>\n",
        "\n",
        "Scikit-learn is _the_ tool for simple machine learning pipelines. \n",
        "\n",
        "It's a single library that unites a whole bunch of models under the common interface:\n",
        "* Create:__ `model = sklearn.whatever.ModelNameHere(parameters_if_any)`__\n",
        "* Train:__ `model.fit(X,y)`__\n",
        "* Predict:__ `model.predict(X_test)`__\n",
        "\n",
        "It also contains utilities for feature extraction, quality estimation or cross-validation."
      ]
    },
    {
      "cell_type": "code",
      "metadata": {
        "id": "JhbbBk93JXXV",
        "colab": {
          "base_uri": "https://localhost:8080/"
        },
        "outputId": "9a24ca3b-c414-4c6f-d9f1-506ab77d937d"
      },
      "source": [
        "from sklearn.neighbors import KNeighborsClassifier\n",
        "from sklearn.metrics import accuracy_score\n",
        "\n",
        "features = data[[\"Fare\", \"SibSp\"]].copy()\n",
        "answers = data[\"Survived\"]\n",
        "\n",
        "model = KNeighborsClassifier(n_neighbors=10)\n",
        "\n",
        "#I have literally no idea why n=10 works. It shouldnt\n",
        "model.fit(features[:-100], answers[:-100])\n",
        "\n",
        "test_predictions = model.predict(features[-100:])\n",
        "print(\"Test accuracy:\", accuracy_score(answers[-100:], test_predictions))"
      ],
      "execution_count": null,
      "outputs": [
        {
          "output_type": "stream",
          "name": "stdout",
          "text": [
            "Test accuracy: 0.75\n"
          ]
        }
      ]
    },
    {
      "cell_type": "markdown",
      "metadata": {
        "id": "Wxe6EeCSJXXY"
      },
      "source": [
        "__Final quest:__ tune n_neighbors and add more features to achieve accuracy of at least 0.75\n",
        "\n",
        "\n",
        "__Hint 1:__ for string features like \"Sex\" or \"Embarked\" you will have to compute some kind of numeric representation.\n",
        "For example, 1 if male and 0 if female or vice versa \n",
        "\n",
        "__Hint 2:__ features like \"Age\" contain NaN values. You can replace them with `replaced = data[\"Age\"].fillna(some_number)`."
      ]
    },
    {
      "cell_type": "markdown",
      "metadata": {
        "id": "WcdyuBflJXXZ"
      },
      "source": [
        "* Sklearn [tutorials](http://scikit-learn.org/stable/tutorial/index.html)\n",
        "* Sklearn [examples](http://scikit-learn.org/stable/auto_examples/index.html)\n",
        "* Sklearn [cheat sheet](http://scikit-learn.org/stable/_static/ml_map.png)"
      ]
    },
    {
      "cell_type": "markdown",
      "metadata": {
        "id": "toDL-cAILb8H"
      },
      "source": [
        "```\n",
        "```\n",
        "```\n",
        "```"
      ]
    },
    {
      "cell_type": "markdown",
      "metadata": {
        "id": "_gdvIZBILdoo"
      },
      "source": [
        "## Bonus part"
      ]
    },
    {
      "cell_type": "markdown",
      "metadata": {
        "id": "4z88BXYDLunO"
      },
      "source": [
        "### Pandas: adding new columns"
      ]
    },
    {
      "cell_type": "markdown",
      "metadata": {
        "id": "fAqszFVKMHCG"
      },
      "source": [
        "To define a new column in a dataframe simply assign to it (if such a column exists it will get overwritten):"
      ]
    },
    {
      "cell_type": "code",
      "metadata": {
        "id": "jTf14P-ELzXD",
        "colab": {
          "base_uri": "https://localhost:8080/",
          "height": 235
        },
        "outputId": "4a873512-6ab7-4afc-8d18-a606442f84d7"
      },
      "source": [
        "data['CabinUnknown'] = data.Cabin.isna()\n",
        "data.head()"
      ],
      "execution_count": null,
      "outputs": [
        {
          "output_type": "execute_result",
          "data": {
            "text/html": [
              "<div>\n",
              "<style scoped>\n",
              "    .dataframe tbody tr th:only-of-type {\n",
              "        vertical-align: middle;\n",
              "    }\n",
              "\n",
              "    .dataframe tbody tr th {\n",
              "        vertical-align: top;\n",
              "    }\n",
              "\n",
              "    .dataframe thead th {\n",
              "        text-align: right;\n",
              "    }\n",
              "</style>\n",
              "<table border=\"1\" class=\"dataframe\">\n",
              "  <thead>\n",
              "    <tr style=\"text-align: right;\">\n",
              "      <th></th>\n",
              "      <th>Survived</th>\n",
              "      <th>Pclass</th>\n",
              "      <th>Name</th>\n",
              "      <th>Sex</th>\n",
              "      <th>Age</th>\n",
              "      <th>SibSp</th>\n",
              "      <th>Parch</th>\n",
              "      <th>Ticket</th>\n",
              "      <th>Fare</th>\n",
              "      <th>Cabin</th>\n",
              "      <th>Embarked</th>\n",
              "      <th>CabinUnknown</th>\n",
              "    </tr>\n",
              "    <tr>\n",
              "      <th>PassengerId</th>\n",
              "      <th></th>\n",
              "      <th></th>\n",
              "      <th></th>\n",
              "      <th></th>\n",
              "      <th></th>\n",
              "      <th></th>\n",
              "      <th></th>\n",
              "      <th></th>\n",
              "      <th></th>\n",
              "      <th></th>\n",
              "      <th></th>\n",
              "      <th></th>\n",
              "    </tr>\n",
              "  </thead>\n",
              "  <tbody>\n",
              "    <tr>\n",
              "      <th>1</th>\n",
              "      <td>0</td>\n",
              "      <td>3</td>\n",
              "      <td>Braund, Mr. Owen Harris</td>\n",
              "      <td>male</td>\n",
              "      <td>22.0</td>\n",
              "      <td>1</td>\n",
              "      <td>0</td>\n",
              "      <td>A/5 21171</td>\n",
              "      <td>7.2500</td>\n",
              "      <td>NaN</td>\n",
              "      <td>S</td>\n",
              "      <td>True</td>\n",
              "    </tr>\n",
              "    <tr>\n",
              "      <th>2</th>\n",
              "      <td>1</td>\n",
              "      <td>1</td>\n",
              "      <td>Cumings, Mrs. John Bradley (Florence Briggs Th...</td>\n",
              "      <td>female</td>\n",
              "      <td>38.0</td>\n",
              "      <td>1</td>\n",
              "      <td>0</td>\n",
              "      <td>PC 17599</td>\n",
              "      <td>71.2833</td>\n",
              "      <td>C85</td>\n",
              "      <td>C</td>\n",
              "      <td>False</td>\n",
              "    </tr>\n",
              "    <tr>\n",
              "      <th>3</th>\n",
              "      <td>1</td>\n",
              "      <td>3</td>\n",
              "      <td>Heikkinen, Miss. Laina</td>\n",
              "      <td>female</td>\n",
              "      <td>26.0</td>\n",
              "      <td>0</td>\n",
              "      <td>0</td>\n",
              "      <td>STON/O2. 3101282</td>\n",
              "      <td>7.9250</td>\n",
              "      <td>NaN</td>\n",
              "      <td>S</td>\n",
              "      <td>True</td>\n",
              "    </tr>\n",
              "    <tr>\n",
              "      <th>4</th>\n",
              "      <td>1</td>\n",
              "      <td>1</td>\n",
              "      <td>Futrelle, Mrs. Jacques Heath (Lily May Peel)</td>\n",
              "      <td>female</td>\n",
              "      <td>35.0</td>\n",
              "      <td>1</td>\n",
              "      <td>0</td>\n",
              "      <td>113803</td>\n",
              "      <td>53.1000</td>\n",
              "      <td>C123</td>\n",
              "      <td>S</td>\n",
              "      <td>False</td>\n",
              "    </tr>\n",
              "    <tr>\n",
              "      <th>5</th>\n",
              "      <td>0</td>\n",
              "      <td>3</td>\n",
              "      <td>Allen, Mr. William Henry</td>\n",
              "      <td>male</td>\n",
              "      <td>35.0</td>\n",
              "      <td>0</td>\n",
              "      <td>0</td>\n",
              "      <td>373450</td>\n",
              "      <td>8.0500</td>\n",
              "      <td>NaN</td>\n",
              "      <td>S</td>\n",
              "      <td>True</td>\n",
              "    </tr>\n",
              "  </tbody>\n",
              "</table>\n",
              "</div>"
            ],
            "text/plain": [
              "             Survived  Pclass  ... Embarked CabinUnknown\n",
              "PassengerId                    ...                      \n",
              "1                   0       3  ...        S         True\n",
              "2                   1       1  ...        C        False\n",
              "3                   1       3  ...        S         True\n",
              "4                   1       1  ...        S        False\n",
              "5                   0       3  ...        S         True\n",
              "\n",
              "[5 rows x 12 columns]"
            ]
          },
          "metadata": {},
          "execution_count": 70
        }
      ]
    },
    {
      "cell_type": "markdown",
      "metadata": {
        "id": "rLtCIDVCMx3t"
      },
      "source": [
        "Be sure to use the approach with a `['ColumnName']` , rather than `.ColumnName`, otherwize it won't work:"
      ]
    },
    {
      "cell_type": "code",
      "metadata": {
        "id": "ctpV_MWvMh6b",
        "colab": {
          "base_uri": "https://localhost:8080/",
          "height": 289
        },
        "outputId": "3cb190ec-048c-4849-c4d1-2748780e6f0a"
      },
      "source": [
        "data.this_will_not_work = data.Age**2\n",
        "data.head()"
      ],
      "execution_count": null,
      "outputs": [
        {
          "output_type": "stream",
          "name": "stderr",
          "text": [
            "/usr/local/lib/python3.7/dist-packages/ipykernel_launcher.py:1: UserWarning: Pandas doesn't allow columns to be created via a new attribute name - see https://pandas.pydata.org/pandas-docs/stable/indexing.html#attribute-access\n",
            "  \"\"\"Entry point for launching an IPython kernel.\n"
          ]
        },
        {
          "output_type": "execute_result",
          "data": {
            "text/html": [
              "<div>\n",
              "<style scoped>\n",
              "    .dataframe tbody tr th:only-of-type {\n",
              "        vertical-align: middle;\n",
              "    }\n",
              "\n",
              "    .dataframe tbody tr th {\n",
              "        vertical-align: top;\n",
              "    }\n",
              "\n",
              "    .dataframe thead th {\n",
              "        text-align: right;\n",
              "    }\n",
              "</style>\n",
              "<table border=\"1\" class=\"dataframe\">\n",
              "  <thead>\n",
              "    <tr style=\"text-align: right;\">\n",
              "      <th></th>\n",
              "      <th>Survived</th>\n",
              "      <th>Pclass</th>\n",
              "      <th>Name</th>\n",
              "      <th>Sex</th>\n",
              "      <th>Age</th>\n",
              "      <th>SibSp</th>\n",
              "      <th>Parch</th>\n",
              "      <th>Ticket</th>\n",
              "      <th>Fare</th>\n",
              "      <th>Cabin</th>\n",
              "      <th>Embarked</th>\n",
              "      <th>CabinUnknown</th>\n",
              "    </tr>\n",
              "    <tr>\n",
              "      <th>PassengerId</th>\n",
              "      <th></th>\n",
              "      <th></th>\n",
              "      <th></th>\n",
              "      <th></th>\n",
              "      <th></th>\n",
              "      <th></th>\n",
              "      <th></th>\n",
              "      <th></th>\n",
              "      <th></th>\n",
              "      <th></th>\n",
              "      <th></th>\n",
              "      <th></th>\n",
              "    </tr>\n",
              "  </thead>\n",
              "  <tbody>\n",
              "    <tr>\n",
              "      <th>1</th>\n",
              "      <td>0</td>\n",
              "      <td>3</td>\n",
              "      <td>Braund, Mr. Owen Harris</td>\n",
              "      <td>male</td>\n",
              "      <td>22.0</td>\n",
              "      <td>1</td>\n",
              "      <td>0</td>\n",
              "      <td>A/5 21171</td>\n",
              "      <td>7.2500</td>\n",
              "      <td>NaN</td>\n",
              "      <td>S</td>\n",
              "      <td>True</td>\n",
              "    </tr>\n",
              "    <tr>\n",
              "      <th>2</th>\n",
              "      <td>1</td>\n",
              "      <td>1</td>\n",
              "      <td>Cumings, Mrs. John Bradley (Florence Briggs Th...</td>\n",
              "      <td>female</td>\n",
              "      <td>38.0</td>\n",
              "      <td>1</td>\n",
              "      <td>0</td>\n",
              "      <td>PC 17599</td>\n",
              "      <td>71.2833</td>\n",
              "      <td>C85</td>\n",
              "      <td>C</td>\n",
              "      <td>False</td>\n",
              "    </tr>\n",
              "    <tr>\n",
              "      <th>3</th>\n",
              "      <td>1</td>\n",
              "      <td>3</td>\n",
              "      <td>Heikkinen, Miss. Laina</td>\n",
              "      <td>female</td>\n",
              "      <td>26.0</td>\n",
              "      <td>0</td>\n",
              "      <td>0</td>\n",
              "      <td>STON/O2. 3101282</td>\n",
              "      <td>7.9250</td>\n",
              "      <td>NaN</td>\n",
              "      <td>S</td>\n",
              "      <td>True</td>\n",
              "    </tr>\n",
              "    <tr>\n",
              "      <th>4</th>\n",
              "      <td>1</td>\n",
              "      <td>1</td>\n",
              "      <td>Futrelle, Mrs. Jacques Heath (Lily May Peel)</td>\n",
              "      <td>female</td>\n",
              "      <td>35.0</td>\n",
              "      <td>1</td>\n",
              "      <td>0</td>\n",
              "      <td>113803</td>\n",
              "      <td>53.1000</td>\n",
              "      <td>C123</td>\n",
              "      <td>S</td>\n",
              "      <td>False</td>\n",
              "    </tr>\n",
              "    <tr>\n",
              "      <th>5</th>\n",
              "      <td>0</td>\n",
              "      <td>3</td>\n",
              "      <td>Allen, Mr. William Henry</td>\n",
              "      <td>male</td>\n",
              "      <td>35.0</td>\n",
              "      <td>0</td>\n",
              "      <td>0</td>\n",
              "      <td>373450</td>\n",
              "      <td>8.0500</td>\n",
              "      <td>NaN</td>\n",
              "      <td>S</td>\n",
              "      <td>True</td>\n",
              "    </tr>\n",
              "  </tbody>\n",
              "</table>\n",
              "</div>"
            ],
            "text/plain": [
              "             Survived  Pclass  ... Embarked CabinUnknown\n",
              "PassengerId                    ...                      \n",
              "1                   0       3  ...        S         True\n",
              "2                   1       1  ...        C        False\n",
              "3                   1       3  ...        S         True\n",
              "4                   1       1  ...        S        False\n",
              "5                   0       3  ...        S         True\n",
              "\n",
              "[5 rows x 12 columns]"
            ]
          },
          "metadata": {},
          "execution_count": 71
        }
      ]
    },
    {
      "cell_type": "markdown",
      "metadata": {
        "id": "ErWMVXfvcgrZ"
      },
      "source": [
        "### Pandas: one-hot encoding"
      ]
    },
    {
      "cell_type": "code",
      "metadata": {
        "id": "YBfOdHGGdCMC",
        "colab": {
          "base_uri": "https://localhost:8080/",
          "height": 235
        },
        "outputId": "b8724399-dd6f-460a-9979-54becb0ca48b"
      },
      "source": [
        "pd.get_dummies(data.Embarked, prefix='Embarked').head()\n",
        "# added .head() for a more compact output"
      ],
      "execution_count": null,
      "outputs": [
        {
          "output_type": "execute_result",
          "data": {
            "text/html": [
              "<div>\n",
              "<style scoped>\n",
              "    .dataframe tbody tr th:only-of-type {\n",
              "        vertical-align: middle;\n",
              "    }\n",
              "\n",
              "    .dataframe tbody tr th {\n",
              "        vertical-align: top;\n",
              "    }\n",
              "\n",
              "    .dataframe thead th {\n",
              "        text-align: right;\n",
              "    }\n",
              "</style>\n",
              "<table border=\"1\" class=\"dataframe\">\n",
              "  <thead>\n",
              "    <tr style=\"text-align: right;\">\n",
              "      <th></th>\n",
              "      <th>Embarked_C</th>\n",
              "      <th>Embarked_Q</th>\n",
              "      <th>Embarked_S</th>\n",
              "    </tr>\n",
              "    <tr>\n",
              "      <th>PassengerId</th>\n",
              "      <th></th>\n",
              "      <th></th>\n",
              "      <th></th>\n",
              "    </tr>\n",
              "  </thead>\n",
              "  <tbody>\n",
              "    <tr>\n",
              "      <th>1</th>\n",
              "      <td>0</td>\n",
              "      <td>0</td>\n",
              "      <td>1</td>\n",
              "    </tr>\n",
              "    <tr>\n",
              "      <th>2</th>\n",
              "      <td>1</td>\n",
              "      <td>0</td>\n",
              "      <td>0</td>\n",
              "    </tr>\n",
              "    <tr>\n",
              "      <th>3</th>\n",
              "      <td>0</td>\n",
              "      <td>0</td>\n",
              "      <td>1</td>\n",
              "    </tr>\n",
              "    <tr>\n",
              "      <th>4</th>\n",
              "      <td>0</td>\n",
              "      <td>0</td>\n",
              "      <td>1</td>\n",
              "    </tr>\n",
              "    <tr>\n",
              "      <th>5</th>\n",
              "      <td>0</td>\n",
              "      <td>0</td>\n",
              "      <td>1</td>\n",
              "    </tr>\n",
              "  </tbody>\n",
              "</table>\n",
              "</div>"
            ],
            "text/plain": [
              "             Embarked_C  Embarked_Q  Embarked_S\n",
              "PassengerId                                    \n",
              "1                     0           0           1\n",
              "2                     1           0           0\n",
              "3                     0           0           1\n",
              "4                     0           0           1\n",
              "5                     0           0           1"
            ]
          },
          "metadata": {},
          "execution_count": 72
        }
      ]
    },
    {
      "cell_type": "markdown",
      "metadata": {
        "id": "ZxqeVSdKd0DT"
      },
      "source": [
        "### Pandas: merging tables"
      ]
    },
    {
      "cell_type": "code",
      "metadata": {
        "id": "AP9PrE8qdyI_",
        "colab": {
          "base_uri": "https://localhost:8080/",
          "height": 235
        },
        "outputId": "9e70af21-5e41-4248-b0db-2ac52dbb4115"
      },
      "source": [
        "data_extended = pd.concat([\n",
        "                      data,\n",
        "                      pd.get_dummies(data.Embarked, prefix='Embarked')\n",
        "                    ], axis=1)\n",
        "data_extended.head()"
      ],
      "execution_count": null,
      "outputs": [
        {
          "output_type": "execute_result",
          "data": {
            "text/html": [
              "<div>\n",
              "<style scoped>\n",
              "    .dataframe tbody tr th:only-of-type {\n",
              "        vertical-align: middle;\n",
              "    }\n",
              "\n",
              "    .dataframe tbody tr th {\n",
              "        vertical-align: top;\n",
              "    }\n",
              "\n",
              "    .dataframe thead th {\n",
              "        text-align: right;\n",
              "    }\n",
              "</style>\n",
              "<table border=\"1\" class=\"dataframe\">\n",
              "  <thead>\n",
              "    <tr style=\"text-align: right;\">\n",
              "      <th></th>\n",
              "      <th>Survived</th>\n",
              "      <th>Pclass</th>\n",
              "      <th>Name</th>\n",
              "      <th>Sex</th>\n",
              "      <th>Age</th>\n",
              "      <th>SibSp</th>\n",
              "      <th>Parch</th>\n",
              "      <th>Ticket</th>\n",
              "      <th>Fare</th>\n",
              "      <th>Cabin</th>\n",
              "      <th>Embarked</th>\n",
              "      <th>CabinUnknown</th>\n",
              "      <th>Embarked_C</th>\n",
              "      <th>Embarked_Q</th>\n",
              "      <th>Embarked_S</th>\n",
              "    </tr>\n",
              "    <tr>\n",
              "      <th>PassengerId</th>\n",
              "      <th></th>\n",
              "      <th></th>\n",
              "      <th></th>\n",
              "      <th></th>\n",
              "      <th></th>\n",
              "      <th></th>\n",
              "      <th></th>\n",
              "      <th></th>\n",
              "      <th></th>\n",
              "      <th></th>\n",
              "      <th></th>\n",
              "      <th></th>\n",
              "      <th></th>\n",
              "      <th></th>\n",
              "      <th></th>\n",
              "    </tr>\n",
              "  </thead>\n",
              "  <tbody>\n",
              "    <tr>\n",
              "      <th>1</th>\n",
              "      <td>0</td>\n",
              "      <td>3</td>\n",
              "      <td>Braund, Mr. Owen Harris</td>\n",
              "      <td>male</td>\n",
              "      <td>22.0</td>\n",
              "      <td>1</td>\n",
              "      <td>0</td>\n",
              "      <td>A/5 21171</td>\n",
              "      <td>7.2500</td>\n",
              "      <td>NaN</td>\n",
              "      <td>S</td>\n",
              "      <td>True</td>\n",
              "      <td>0</td>\n",
              "      <td>0</td>\n",
              "      <td>1</td>\n",
              "    </tr>\n",
              "    <tr>\n",
              "      <th>2</th>\n",
              "      <td>1</td>\n",
              "      <td>1</td>\n",
              "      <td>Cumings, Mrs. John Bradley (Florence Briggs Th...</td>\n",
              "      <td>female</td>\n",
              "      <td>38.0</td>\n",
              "      <td>1</td>\n",
              "      <td>0</td>\n",
              "      <td>PC 17599</td>\n",
              "      <td>71.2833</td>\n",
              "      <td>C85</td>\n",
              "      <td>C</td>\n",
              "      <td>False</td>\n",
              "      <td>1</td>\n",
              "      <td>0</td>\n",
              "      <td>0</td>\n",
              "    </tr>\n",
              "    <tr>\n",
              "      <th>3</th>\n",
              "      <td>1</td>\n",
              "      <td>3</td>\n",
              "      <td>Heikkinen, Miss. Laina</td>\n",
              "      <td>female</td>\n",
              "      <td>26.0</td>\n",
              "      <td>0</td>\n",
              "      <td>0</td>\n",
              "      <td>STON/O2. 3101282</td>\n",
              "      <td>7.9250</td>\n",
              "      <td>NaN</td>\n",
              "      <td>S</td>\n",
              "      <td>True</td>\n",
              "      <td>0</td>\n",
              "      <td>0</td>\n",
              "      <td>1</td>\n",
              "    </tr>\n",
              "    <tr>\n",
              "      <th>4</th>\n",
              "      <td>1</td>\n",
              "      <td>1</td>\n",
              "      <td>Futrelle, Mrs. Jacques Heath (Lily May Peel)</td>\n",
              "      <td>female</td>\n",
              "      <td>35.0</td>\n",
              "      <td>1</td>\n",
              "      <td>0</td>\n",
              "      <td>113803</td>\n",
              "      <td>53.1000</td>\n",
              "      <td>C123</td>\n",
              "      <td>S</td>\n",
              "      <td>False</td>\n",
              "      <td>0</td>\n",
              "      <td>0</td>\n",
              "      <td>1</td>\n",
              "    </tr>\n",
              "    <tr>\n",
              "      <th>5</th>\n",
              "      <td>0</td>\n",
              "      <td>3</td>\n",
              "      <td>Allen, Mr. William Henry</td>\n",
              "      <td>male</td>\n",
              "      <td>35.0</td>\n",
              "      <td>0</td>\n",
              "      <td>0</td>\n",
              "      <td>373450</td>\n",
              "      <td>8.0500</td>\n",
              "      <td>NaN</td>\n",
              "      <td>S</td>\n",
              "      <td>True</td>\n",
              "      <td>0</td>\n",
              "      <td>0</td>\n",
              "      <td>1</td>\n",
              "    </tr>\n",
              "  </tbody>\n",
              "</table>\n",
              "</div>"
            ],
            "text/plain": [
              "             Survived  Pclass  ... Embarked_Q Embarked_S\n",
              "PassengerId                    ...                      \n",
              "1                   0       3  ...          0          1\n",
              "2                   1       1  ...          0          0\n",
              "3                   1       3  ...          0          1\n",
              "4                   1       1  ...          0          1\n",
              "5                   0       3  ...          0          1\n",
              "\n",
              "[5 rows x 15 columns]"
            ]
          },
          "metadata": {},
          "execution_count": 73
        }
      ]
    },
    {
      "cell_type": "markdown",
      "metadata": {
        "id": "QeaeflaAeQ7W"
      },
      "source": [
        "### Pandas: groupby"
      ]
    },
    {
      "cell_type": "markdown",
      "metadata": {
        "id": "fP6HFtuRhwPD"
      },
      "source": [
        "This function provides a neat way to calculate some statistics for groups of entries with some common feature value."
      ]
    },
    {
      "cell_type": "code",
      "metadata": {
        "id": "y4QeQUKmiDSZ",
        "colab": {
          "base_uri": "https://localhost:8080/"
        },
        "outputId": "e195abc3-944a-4404-8c40-3d106e7c4ac9"
      },
      "source": [
        "g = data.groupby('Embarked')\n",
        "# Now `g` is an iterable of dataframes split based on the values\n",
        "# in the 'Embarked' column:\n",
        "\n",
        "for embarked, group in g:\n",
        "  print(embarked, type(group), group.shape)"
      ],
      "execution_count": null,
      "outputs": [
        {
          "output_type": "stream",
          "name": "stdout",
          "text": [
            "C <class 'pandas.core.frame.DataFrame'> (168, 12)\n",
            "Q <class 'pandas.core.frame.DataFrame'> (77, 12)\n",
            "S <class 'pandas.core.frame.DataFrame'> (644, 12)\n"
          ]
        }
      ]
    },
    {
      "cell_type": "code",
      "metadata": {
        "id": "cZlGdJ3-jo05",
        "colab": {
          "base_uri": "https://localhost:8080/",
          "height": 173
        },
        "outputId": "bd679994-9709-4c48-f126-013bde57715a"
      },
      "source": [
        "# You can calculate things on the groups simultaniously:\n",
        "\n",
        "g.mean()"
      ],
      "execution_count": null,
      "outputs": [
        {
          "output_type": "execute_result",
          "data": {
            "text/html": [
              "<div>\n",
              "<style scoped>\n",
              "    .dataframe tbody tr th:only-of-type {\n",
              "        vertical-align: middle;\n",
              "    }\n",
              "\n",
              "    .dataframe tbody tr th {\n",
              "        vertical-align: top;\n",
              "    }\n",
              "\n",
              "    .dataframe thead th {\n",
              "        text-align: right;\n",
              "    }\n",
              "</style>\n",
              "<table border=\"1\" class=\"dataframe\">\n",
              "  <thead>\n",
              "    <tr style=\"text-align: right;\">\n",
              "      <th></th>\n",
              "      <th>Survived</th>\n",
              "      <th>Pclass</th>\n",
              "      <th>Age</th>\n",
              "      <th>SibSp</th>\n",
              "      <th>Parch</th>\n",
              "      <th>Fare</th>\n",
              "      <th>CabinUnknown</th>\n",
              "    </tr>\n",
              "    <tr>\n",
              "      <th>Embarked</th>\n",
              "      <th></th>\n",
              "      <th></th>\n",
              "      <th></th>\n",
              "      <th></th>\n",
              "      <th></th>\n",
              "      <th></th>\n",
              "      <th></th>\n",
              "    </tr>\n",
              "  </thead>\n",
              "  <tbody>\n",
              "    <tr>\n",
              "      <th>C</th>\n",
              "      <td>0.553571</td>\n",
              "      <td>1.886905</td>\n",
              "      <td>30.562419</td>\n",
              "      <td>0.386905</td>\n",
              "      <td>0.363095</td>\n",
              "      <td>59.954144</td>\n",
              "      <td>0.589286</td>\n",
              "    </tr>\n",
              "    <tr>\n",
              "      <th>Q</th>\n",
              "      <td>0.389610</td>\n",
              "      <td>2.909091</td>\n",
              "      <td>29.113724</td>\n",
              "      <td>0.428571</td>\n",
              "      <td>0.168831</td>\n",
              "      <td>13.276030</td>\n",
              "      <td>0.948052</td>\n",
              "    </tr>\n",
              "    <tr>\n",
              "      <th>S</th>\n",
              "      <td>0.336957</td>\n",
              "      <td>2.350932</td>\n",
              "      <td>29.480855</td>\n",
              "      <td>0.571429</td>\n",
              "      <td>0.413043</td>\n",
              "      <td>27.079812</td>\n",
              "      <td>0.799689</td>\n",
              "    </tr>\n",
              "  </tbody>\n",
              "</table>\n",
              "</div>"
            ],
            "text/plain": [
              "          Survived    Pclass        Age  ...     Parch       Fare  CabinUnknown\n",
              "Embarked                                 ...                                   \n",
              "C         0.553571  1.886905  30.562419  ...  0.363095  59.954144      0.589286\n",
              "Q         0.389610  2.909091  29.113724  ...  0.168831  13.276030      0.948052\n",
              "S         0.336957  2.350932  29.480855  ...  0.413043  27.079812      0.799689\n",
              "\n",
              "[3 rows x 7 columns]"
            ]
          },
          "metadata": {},
          "execution_count": 75
        }
      ]
    },
    {
      "cell_type": "code",
      "metadata": {
        "id": "P-3FFL-hj8qP",
        "colab": {
          "base_uri": "https://localhost:8080/",
          "height": 173
        },
        "outputId": "f1ef3a3f-a9fe-48da-ed08-a9503ce0309c"
      },
      "source": [
        "g.count() # this calculates the number of valid entries (excluding nans)"
      ],
      "execution_count": null,
      "outputs": [
        {
          "output_type": "execute_result",
          "data": {
            "text/html": [
              "<div>\n",
              "<style scoped>\n",
              "    .dataframe tbody tr th:only-of-type {\n",
              "        vertical-align: middle;\n",
              "    }\n",
              "\n",
              "    .dataframe tbody tr th {\n",
              "        vertical-align: top;\n",
              "    }\n",
              "\n",
              "    .dataframe thead th {\n",
              "        text-align: right;\n",
              "    }\n",
              "</style>\n",
              "<table border=\"1\" class=\"dataframe\">\n",
              "  <thead>\n",
              "    <tr style=\"text-align: right;\">\n",
              "      <th></th>\n",
              "      <th>Survived</th>\n",
              "      <th>Pclass</th>\n",
              "      <th>Name</th>\n",
              "      <th>Sex</th>\n",
              "      <th>Age</th>\n",
              "      <th>SibSp</th>\n",
              "      <th>Parch</th>\n",
              "      <th>Ticket</th>\n",
              "      <th>Fare</th>\n",
              "      <th>Cabin</th>\n",
              "      <th>CabinUnknown</th>\n",
              "    </tr>\n",
              "    <tr>\n",
              "      <th>Embarked</th>\n",
              "      <th></th>\n",
              "      <th></th>\n",
              "      <th></th>\n",
              "      <th></th>\n",
              "      <th></th>\n",
              "      <th></th>\n",
              "      <th></th>\n",
              "      <th></th>\n",
              "      <th></th>\n",
              "      <th></th>\n",
              "      <th></th>\n",
              "    </tr>\n",
              "  </thead>\n",
              "  <tbody>\n",
              "    <tr>\n",
              "      <th>C</th>\n",
              "      <td>168</td>\n",
              "      <td>168</td>\n",
              "      <td>168</td>\n",
              "      <td>168</td>\n",
              "      <td>168</td>\n",
              "      <td>168</td>\n",
              "      <td>168</td>\n",
              "      <td>168</td>\n",
              "      <td>168</td>\n",
              "      <td>69</td>\n",
              "      <td>168</td>\n",
              "    </tr>\n",
              "    <tr>\n",
              "      <th>Q</th>\n",
              "      <td>77</td>\n",
              "      <td>77</td>\n",
              "      <td>77</td>\n",
              "      <td>77</td>\n",
              "      <td>77</td>\n",
              "      <td>77</td>\n",
              "      <td>77</td>\n",
              "      <td>77</td>\n",
              "      <td>77</td>\n",
              "      <td>4</td>\n",
              "      <td>77</td>\n",
              "    </tr>\n",
              "    <tr>\n",
              "      <th>S</th>\n",
              "      <td>644</td>\n",
              "      <td>644</td>\n",
              "      <td>644</td>\n",
              "      <td>644</td>\n",
              "      <td>644</td>\n",
              "      <td>644</td>\n",
              "      <td>644</td>\n",
              "      <td>644</td>\n",
              "      <td>644</td>\n",
              "      <td>129</td>\n",
              "      <td>644</td>\n",
              "    </tr>\n",
              "  </tbody>\n",
              "</table>\n",
              "</div>"
            ],
            "text/plain": [
              "          Survived  Pclass  Name  Sex  ...  Ticket  Fare  Cabin  CabinUnknown\n",
              "Embarked                               ...                                   \n",
              "C              168     168   168  168  ...     168   168     69           168\n",
              "Q               77      77    77   77  ...      77    77      4            77\n",
              "S              644     644   644  644  ...     644   644    129           644\n",
              "\n",
              "[3 rows x 11 columns]"
            ]
          },
          "metadata": {},
          "execution_count": 76
        }
      ]
    },
    {
      "cell_type": "code",
      "metadata": {
        "id": "c4KA9HsekPiA",
        "colab": {
          "base_uri": "https://localhost:8080/"
        },
        "outputId": "6468f087-0caf-4115-9639-0b9fe65295bc"
      },
      "source": [
        "# You can also access individual columns:\n",
        "g.Fare.max()"
      ],
      "execution_count": null,
      "outputs": [
        {
          "output_type": "execute_result",
          "data": {
            "text/plain": [
              "Embarked\n",
              "C    512.3292\n",
              "Q     90.0000\n",
              "S    263.0000\n",
              "Name: Fare, dtype: float64"
            ]
          },
          "metadata": {},
          "execution_count": 77
        }
      ]
    },
    {
      "cell_type": "markdown",
      "metadata": {
        "id": "WRhTgAVHekYH"
      },
      "source": [
        "### Pandas: cut and qcut"
      ]
    },
    {
      "cell_type": "markdown",
      "metadata": {
        "id": "c42YbZKlksNz"
      },
      "source": [
        "These functions let us split data into bins: `cut` makes linear splits, while `qcut` makes quantile-based splits. They both return a column of bins to which current entry belongs:"
      ]
    },
    {
      "cell_type": "code",
      "metadata": {
        "id": "UHMNswNblHeB",
        "colab": {
          "base_uri": "https://localhost:8080/"
        },
        "outputId": "836f8915-9238-41d0-bdc5-c79bd418c8e1"
      },
      "source": [
        "pd.cut(data.Age, 3).head() # '.head()' added for a more compact output"
      ],
      "execution_count": null,
      "outputs": [
        {
          "output_type": "execute_result",
          "data": {
            "text/plain": [
              "PassengerId\n",
              "1      (0.34, 26.947]\n",
              "2    (26.947, 53.473]\n",
              "3      (0.34, 26.947]\n",
              "4    (26.947, 53.473]\n",
              "5    (26.947, 53.473]\n",
              "Name: Age, dtype: category\n",
              "Categories (3, interval[float64]): [(0.34, 26.947] < (26.947, 53.473] < (53.473, 80.0]]"
            ]
          },
          "metadata": {},
          "execution_count": 78
        }
      ]
    },
    {
      "cell_type": "code",
      "metadata": {
        "id": "GJGJhcqUlgKC",
        "colab": {
          "base_uri": "https://localhost:8080/"
        },
        "outputId": "e880aa64-242b-4bce-f57a-25a23ddd0f2b"
      },
      "source": [
        "pd.qcut(data.Age, 3).head() # '.head()' added for a more compact output"
      ],
      "execution_count": null,
      "outputs": [
        {
          "output_type": "execute_result",
          "data": {
            "text/plain": [
              "PassengerId\n",
              "1    (0.419, 25.0]\n",
              "2     (31.0, 80.0]\n",
              "3     (25.0, 31.0]\n",
              "4     (31.0, 80.0]\n",
              "5     (31.0, 80.0]\n",
              "Name: Age, dtype: category\n",
              "Categories (3, interval[float64]): [(0.419, 25.0] < (25.0, 31.0] < (31.0, 80.0]]"
            ]
          },
          "metadata": {},
          "execution_count": 79
        }
      ]
    },
    {
      "cell_type": "markdown",
      "metadata": {
        "id": "pCGLUZ8CmjD0"
      },
      "source": [
        "### Your turn"
      ]
    },
    {
      "cell_type": "markdown",
      "metadata": {
        "id": "G6ryMww4mlK-"
      },
      "source": [
        "Use `cut` and `groupby` to calculate survival rate for 3 age categories.\n",
        "\n",
        "**Hint:** you need to add the result of `cut` as a new column"
      ]
    },
    {
      "cell_type": "code",
      "metadata": {
        "id": "_VD_cgA8m6WT",
        "colab": {
          "base_uri": "https://localhost:8080/",
          "height": 173
        },
        "outputId": "a663eb68-3cb5-437a-9e1a-be6c3518c4fe"
      },
      "source": [
        "data[\"Age group\"]=pd.cut(data.Age, 3)\n",
        "A = data.groupby('Age group')\n",
        "A.mean()"
      ],
      "execution_count": null,
      "outputs": [
        {
          "output_type": "execute_result",
          "data": {
            "text/html": [
              "<div>\n",
              "<style scoped>\n",
              "    .dataframe tbody tr th:only-of-type {\n",
              "        vertical-align: middle;\n",
              "    }\n",
              "\n",
              "    .dataframe tbody tr th {\n",
              "        vertical-align: top;\n",
              "    }\n",
              "\n",
              "    .dataframe thead th {\n",
              "        text-align: right;\n",
              "    }\n",
              "</style>\n",
              "<table border=\"1\" class=\"dataframe\">\n",
              "  <thead>\n",
              "    <tr style=\"text-align: right;\">\n",
              "      <th></th>\n",
              "      <th>Survived</th>\n",
              "      <th>Pclass</th>\n",
              "      <th>Age</th>\n",
              "      <th>SibSp</th>\n",
              "      <th>Parch</th>\n",
              "      <th>Fare</th>\n",
              "      <th>CabinUnknown</th>\n",
              "    </tr>\n",
              "    <tr>\n",
              "      <th>Age group</th>\n",
              "      <th></th>\n",
              "      <th></th>\n",
              "      <th></th>\n",
              "      <th></th>\n",
              "      <th></th>\n",
              "      <th></th>\n",
              "      <th></th>\n",
              "    </tr>\n",
              "  </thead>\n",
              "  <tbody>\n",
              "    <tr>\n",
              "      <th>(0.34, 26.947]</th>\n",
              "      <td>0.407524</td>\n",
              "      <td>2.514107</td>\n",
              "      <td>17.364169</td>\n",
              "      <td>0.739812</td>\n",
              "      <td>0.551724</td>\n",
              "      <td>30.026803</td>\n",
              "      <td>0.833856</td>\n",
              "    </tr>\n",
              "    <tr>\n",
              "      <th>(26.947, 53.473]</th>\n",
              "      <td>0.375479</td>\n",
              "      <td>2.258621</td>\n",
              "      <td>34.265793</td>\n",
              "      <td>0.421456</td>\n",
              "      <td>0.283525</td>\n",
              "      <td>32.348378</td>\n",
              "      <td>0.760536</td>\n",
              "    </tr>\n",
              "    <tr>\n",
              "      <th>(53.473, 80.0]</th>\n",
              "      <td>0.320000</td>\n",
              "      <td>1.520000</td>\n",
              "      <td>60.720000</td>\n",
              "      <td>0.200000</td>\n",
              "      <td>0.320000</td>\n",
              "      <td>44.590916</td>\n",
              "      <td>0.480000</td>\n",
              "    </tr>\n",
              "  </tbody>\n",
              "</table>\n",
              "</div>"
            ],
            "text/plain": [
              "                  Survived    Pclass  ...       Fare  CabinUnknown\n",
              "Age group                             ...                         \n",
              "(0.34, 26.947]    0.407524  2.514107  ...  30.026803      0.833856\n",
              "(26.947, 53.473]  0.375479  2.258621  ...  32.348378      0.760536\n",
              "(53.473, 80.0]    0.320000  1.520000  ...  44.590916      0.480000\n",
              "\n",
              "[3 rows x 7 columns]"
            ]
          },
          "metadata": {},
          "execution_count": 85
        }
      ]
    },
    {
      "cell_type": "markdown",
      "metadata": {
        "id": "UYc963-eepev"
      },
      "source": [
        "### Pandas: combining the tricks (survival vs ticket fare)"
      ]
    },
    {
      "cell_type": "code",
      "metadata": {
        "id": "8aA6C8vbLdJk",
        "colab": {
          "base_uri": "https://localhost:8080/",
          "height": 551
        },
        "outputId": "c639e97d-9c5a-47d8-f5e5-af00e4864021"
      },
      "source": [
        "from matplotlib.ticker import ScalarFormatter\n",
        "\n",
        "data['qFare'] = pd.qcut(data.Fare, 20)\n",
        "\n",
        "sur_vs_price = data.groupby('qFare').Survived.mean()\n",
        "sur_vs_price_e = data.groupby('qFare').Survived.std() \\\n",
        "                        / data.groupby('qFare').Survived.count()**0.5\n",
        "\n",
        "fig = plt.figure(figsize=(16, 9))\n",
        "plt.errorbar(x=sur_vs_price.index.categories.mid,\n",
        "             y=sur_vs_price.values,\n",
        "             yerr=sur_vs_price_e.values,\n",
        "             xerr=(\n",
        "                 sur_vs_price.index.categories.right - \n",
        "                 sur_vs_price.index.categories.left\n",
        "               ) / 2,\n",
        "             fmt='o')\n",
        "plt.gca().set_xscale('log')\n",
        "plt.gca().xaxis.set_major_formatter(ScalarFormatter())\n",
        "plt.gca().set_xticks(\n",
        "              list(range(3, 10)) +\n",
        "              list(range(10, 100, 10)) +\n",
        "              list(range(100, 700, 100))\n",
        "            )\n",
        "\n",
        "plt.xlabel('Fare')\n",
        "plt.ylabel('Survival probability');"
      ],
      "execution_count": null,
      "outputs": [
        {
          "output_type": "display_data",
          "data": {
            "image/png": "[encoded data removed]",
            "text/plain": [
              "<Figure size 1152x648 with 1 Axes>"
            ]
          },
          "metadata": {
            "needs_background": "light"
          }
        }
      ]
    }
  ]
}