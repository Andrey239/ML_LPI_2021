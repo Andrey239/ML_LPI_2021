{
  "nbformat": 4,
  "nbformat_minor": 0,
  "metadata": {
    "colab": {
      "name": "MLatFIAN2021-seminar03-homework.ipynb",
      "provenance": [],
      "toc_visible": true,
      "include_colab_link": true
    },
    "kernelspec": {
      "name": "python3",
      "display_name": "Python 3"
    }
  },
  "cells": [
    {
      "cell_type": "markdown",
      "metadata": {
        "id": "view-in-github",
        "colab_type": "text"
      },
      "source": [
        "<a href=\"https://colab.research.google.com/github/Andrey239/ML_LPI_2021/blob/main/seminar03/MLatFIAN2021_seminar03_homework.ipynb\" target=\"_parent\"><img src=\"https://colab.research.google.com/assets/colab-badge.svg\" alt=\"Open In Colab\"/></a>"
      ]
    },
    {
      "cell_type": "markdown",
      "metadata": {
        "id": "VyNyFPNLVxuA"
      },
      "source": [
        "# Boston housing dataset"
      ]
    },
    {
      "cell_type": "markdown",
      "metadata": {
        "id": "UAiD9r1mV5ka"
      },
      "source": [
        "Use the data and model from the seminar:"
      ]
    },
    {
      "cell_type": "code",
      "metadata": {
        "id": "gIxJDCLGXJ6W"
      },
      "source": [
        "import matplotlib.pyplot as plt\n",
        "from sklearn.datasets import load_boston\n",
        "import pandas as pd\n",
        "import numpy as np\n",
        "\n",
        "from sklearn.linear_model import Ridge\n",
        "from sklearn.pipeline import make_pipeline\n",
        "from sklearn.preprocessing import PolynomialFeatures\n",
        "from sklearn.metrics import mean_squared_error\n",
        "from sklearn.model_selection import train_test_split"
      ],
      "execution_count": 1,
      "outputs": []
    },
    {
      "cell_type": "code",
      "metadata": {
        "id": "20pkSnXwX5fW"
      },
      "source": [
        "columns = [\"CRIM\", \"RM\", \"LSTAT\"]\n",
        "\n",
        "data = load_boston()\n",
        "X = pd.DataFrame(data.data, columns=data.feature_names)[columns]\n",
        "X /= X.max()\n",
        "y = data.target"
      ],
      "execution_count": 2,
      "outputs": []
    },
    {
      "cell_type": "code",
      "metadata": {
        "id": "O1yoR0D2fZcM",
        "colab": {
          "base_uri": "https://localhost:8080/"
        },
        "outputId": "191ffe36-74b3-451b-f8a2-6fba8a400fa2"
      },
      "source": [
        "X_train, X_test, y_train, y_test = train_test_split(X, y, test_size=50, random_state=42)\n",
        "\n",
        "model = make_pipeline(\n",
        "    PolynomialFeatures(9, include_bias=False),\n",
        "    Ridge(alpha=0.1)\n",
        ")\n",
        "\n",
        "model.fit(X_train, y_train)\n",
        "\n",
        "print('train mse = ', mean_squared_error(y_train, model.predict(X_train)))\n",
        "print('test mse = ', mean_squared_error(y_test, model.predict(X_test)))"
      ],
      "execution_count": 3,
      "outputs": [
        {
          "output_type": "stream",
          "name": "stdout",
          "text": [
            "train mse =  19.312028078112938\n",
            "test mse =  8.517501881762888\n"
          ]
        }
      ]
    },
    {
      "cell_type": "markdown",
      "metadata": {
        "id": "ercMxDDhkddQ"
      },
      "source": [
        "# Task 1"
      ]
    },
    {
      "cell_type": "markdown",
      "metadata": {
        "id": "S1PKO5ebkjsM"
      },
      "source": [
        "Use `sklearn.model_selection.cross_validate` to perform K-fold cross-validation of the model above. Plot histograms of train and test scores (`\"neg_mean_squared_error\"`) on the same plot.\n",
        "\n",
        "Do that for 10 and 100 folds.\n",
        "\n",
        "See the docs for more details about the function: https://scikit-learn.org/stable/modules/generated/sklearn.model_selection.cross_validate.html"
      ]
    },
    {
      "cell_type": "code",
      "metadata": {
        "id": "8mPbo3d8gG-w"
      },
      "source": [
        "from sklearn.model_selection import cross_validate"
      ],
      "execution_count": 4,
      "outputs": []
    },
    {
      "cell_type": "code",
      "metadata": {
        "id": "uRjHKo-MkxJX",
        "colab": {
          "base_uri": "https://localhost:8080/",
          "height": 282
        },
        "outputId": "5771cd07-b5b5-41d8-bef2-f3ac75d9376a"
      },
      "source": [
        "numi = 10\n",
        "scores10 = cross_validate(model,X, y,cv = numi,scoring=('neg_mean_squared_error'),return_train_score=True)\n",
        "#print('Cross-validation scores:{}'.format(scores10))\n",
        "#scores100 = cross_validate(model,X, y,cv = 100,return_train_score=True)\n",
        "plt.figure(figsize=(15, 4))\n",
        "#axis = np.linspace(0, numi, numi)\n",
        "\n",
        "\n",
        "\n",
        "plt.hist(scores10['test_score'], bins = 100,label='test_score')\n",
        "plt.hist(scores10['train_score'],bins = 100, label='train_score')\n",
        "plt.legend()\n",
        "\n"
      ],
      "execution_count": 6,
      "outputs": [
        {
          "output_type": "execute_result",
          "data": {
            "text/plain": [
              "<matplotlib.legend.Legend at 0x7f77fcdae910>"
            ]
          },
          "metadata": {},
          "execution_count": 6
        },
        {
          "output_type": "display_data",
          "data": {
            "image/png": "[encoded data removed]",
            "text/plain": [
              "<Figure size 1080x288 with 1 Axes>"
            ]
          },
          "metadata": {
            "needs_background": "light"
          }
        }
      ]
    },
    {
      "cell_type": "markdown",
      "metadata": {
        "id": "88GtxUhjb7gZ"
      },
      "source": [
        "Мне кажется это какой-то неправильный график. Сделаю более разумный"
      ]
    },
    {
      "cell_type": "code",
      "metadata": {
        "colab": {
          "base_uri": "https://localhost:8080/",
          "height": 284
        },
        "id": "vBVhMrImcFh-",
        "outputId": "471b3229-22ec-473d-b1a6-6b507ad3c78a"
      },
      "source": [
        "axis = np.linspace(0, numi, numi)\n",
        "plt.scatter(axis,scores10['test_score'], label='test_score')\n",
        "plt.scatter(axis,scores10['train_score'], label='train_score')\n",
        "plt.legend()"
      ],
      "execution_count": 7,
      "outputs": [
        {
          "output_type": "execute_result",
          "data": {
            "text/plain": [
              "<matplotlib.legend.Legend at 0x7f77fb3a05d0>"
            ]
          },
          "metadata": {},
          "execution_count": 7
        },
        {
          "output_type": "display_data",
          "data": {
            "image/png": "[encoded data removed]",
            "text/plain": [
              "<Figure size 432x288 with 1 Axes>"
            ]
          },
          "metadata": {
            "needs_background": "light"
          }
        }
      ]
    },
    {
      "cell_type": "code",
      "metadata": {
        "id": "TtSa-aeCdbTX"
      },
      "source": [
        "Так-то лучше. Повторим"
      ],
      "execution_count": null,
      "outputs": []
    },
    {
      "cell_type": "code",
      "metadata": {
        "colab": {
          "base_uri": "https://localhost:8080/",
          "height": 282
        },
        "id": "dR2kQ5qLdwYA",
        "outputId": "80cefa9b-8845-4775-f962-23784b566310"
      },
      "source": [
        "numi = 100\n",
        "\n",
        "#print('Cross-validation scores:{}'.format(scores10))\n",
        "scores100 = cross_validate(model,X, y,cv = 100,return_train_score=True)\n",
        "plt.figure(figsize=(15, 4))\n",
        "#axis = np.linspace(0, numi, numi)\n",
        "\n",
        "\n",
        "\n",
        "plt.hist(scores100['test_score'], bins = 100,label='test_score')\n",
        "plt.hist(scores100['train_score'],bins = 100, label='train_score')\n",
        "plt.legend()\n",
        "\n"
      ],
      "execution_count": 8,
      "outputs": [
        {
          "output_type": "execute_result",
          "data": {
            "text/plain": [
              "<matplotlib.legend.Legend at 0x7f77fb3738d0>"
            ]
          },
          "metadata": {},
          "execution_count": 8
        },
        {
          "output_type": "display_data",
          "data": {
            "image/png": "[encoded data removed]",
            "text/plain": [
              "<Figure size 1080x288 with 1 Axes>"
            ]
          },
          "metadata": {
            "needs_background": "light"
          }
        }
      ]
    },
    {
      "cell_type": "code",
      "metadata": {
        "id": "vepmASpKdv7F"
      },
      "source": [
        ""
      ],
      "execution_count": null,
      "outputs": []
    },
    {
      "cell_type": "code",
      "metadata": {
        "colab": {
          "base_uri": "https://localhost:8080/",
          "height": 282
        },
        "id": "qgR2Sa4Md63j",
        "outputId": "3ef79eac-035c-4ade-8e3b-78c3103fb317"
      },
      "source": [
        "axis = np.linspace(0, numi, numi)\n",
        "plt.scatter(axis,scores100['test_score'], label='test_score')\n",
        "plt.scatter(axis,scores100['train_score'], label='train_score')\n",
        "plt.legend()"
      ],
      "execution_count": 9,
      "outputs": [
        {
          "output_type": "execute_result",
          "data": {
            "text/plain": [
              "<matplotlib.legend.Legend at 0x7f77fb064390>"
            ]
          },
          "metadata": {},
          "execution_count": 9
        },
        {
          "output_type": "display_data",
          "data": {
            "image/png": "[encoded data removed]",
            "text/plain": [
              "<Figure size 432x288 with 1 Axes>"
            ]
          },
          "metadata": {
            "needs_background": "light"
          }
        }
      ]
    }
  ]
}